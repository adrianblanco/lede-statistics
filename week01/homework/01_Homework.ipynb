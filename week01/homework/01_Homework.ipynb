{
 "cells": [
  {
   "cell_type": "markdown",
   "metadata": {},
   "source": [
    "Brief Homework 1\n",
    "----------------------\n",
    "\n",
    "In class, we looked at data and analysis around the death toll from Hurricane Maria. We ended the session looking at crime statistics from the FBI's Uniform Crime Reporting Program. Review that notebook before starting this assignment to refresh yourself on the syntax that R uses. The data we start with for this homework comes from the Major Cities Chiefs Association which has been surveying its members to get a sense of where crime is headed. Their report is here -- [MCCA Violent Crime Statistics](https://assets.documentcloud.org/documents/3023302/MCCA-Violent-Crime-Data-Midyear-2016-2015-8716.pdf). \n",
    "\n",
    "This little homework was part of a story by Tom Meagher and Gabe Dance at The Marshall Project. Have a look at thier [Crime in Context](https://www.themarshallproject.org/2016/08/18/crime-in-context) to see where these simple tools proved helpful. Read it over and take note of the kinds of statitics used in the story. \n",
    "\n",
    "The data we need is in a PDF table. PDF (the Portable Document Format) is really good for representing data to a printer -- creating a standard like this was a huge deal when PDF was introduced. Often, however, it becomes a vehicle for publishing data and then you start to see its weaknesses. Extracting data from a PDF will depend, first, on the kind of PDF it is. If you can \"select\" text from the document, you're in luck. There are several tools to help you get reasonably close to the data. If, on the other hand, your pages are essentially images, well, then you have to rely on \"optical character recognition\" programs that cluster black and white pixels, say, into letters and words and sentences. \n",
    "\n",
    "I used [Tabula](http://tabula.technology/) to pull the data from the Chiefs' report and convert it to something more usable, a CSV (comma separated values) file. CSV files are a popular format for tabular data. Each line in the file represents a different person or object or \"entity.\" Measurements, or \"attributes\" on a given entity occupy one line in the file and are separated by commas. You can read more about the format [here](https://en.wikipedia.org/wiki/Comma-separated_values). [Download the data](https://www.dropbox.com/s/qjgc6xri89hg4ub/mcca.csv?dl=0) and have a look -- perhaps open it in your favorite spreadsheet program.\n",
    "\n",
    "To pull this data into R, we will again use the function `read.csv()`, but this time loading the data using a URL from github.com."
   ]
  },
  {
   "cell_type": "code",
   "execution_count": 1,
   "metadata": {},
   "outputs": [
    {
     "data": {
      "text/html": [
       "<table>\n",
       "<thead><tr><th scope=col>agency</th><th scope=col>hom16</th><th scope=col>hom15</th><th scope=col>rap16</th><th scope=col>rap15</th><th scope=col>rob16</th><th scope=col>rob15</th><th scope=col>agg16</th><th scope=col>agg15</th><th scope=col>non16</th><th scope=col>non15</th></tr></thead>\n",
       "<tbody>\n",
       "\t<tr><td>Albuquerque PD     </td><td>34                 </td><td>25                 </td><td>156                </td><td>199                </td><td> 753               </td><td> 861               </td><td>1601               </td><td>1608               </td><td>125                </td><td> NA                </td></tr>\n",
       "\t<tr><td>Arlington PD       </td><td>13                 </td><td> 4                 </td><td>123                </td><td>117                </td><td> 245               </td><td> 248               </td><td> 668               </td><td> 600               </td><td> NA                </td><td> NA                </td></tr>\n",
       "\t<tr><td>Atlanta PD         </td><td>57                 </td><td>45                 </td><td> 72                </td><td> 72                </td><td>1005               </td><td>1003               </td><td>1028               </td><td>1064               </td><td>161                </td><td>161                </td></tr>\n",
       "\t<tr><td>Aurora PD          </td><td>10                 </td><td> 7                 </td><td>127                </td><td>149                </td><td> 287               </td><td> 205               </td><td> 390               </td><td> 317               </td><td> 18                </td><td> 15                </td></tr>\n",
       "\t<tr><td>Austin PD          </td><td>12                 </td><td> 9                 </td><td>328                </td><td>387                </td><td> 516               </td><td> 446               </td><td>1114               </td><td> 942               </td><td> NA                </td><td> NA                </td></tr>\n",
       "\t<tr><td>Baltimore County PD</td><td>16                 </td><td>14                 </td><td>141                </td><td>134                </td><td> 583               </td><td> 652               </td><td> 823               </td><td>1193               </td><td> 20                </td><td> 18                </td></tr>\n",
       "</tbody>\n",
       "</table>\n"
      ],
      "text/latex": [
       "\\begin{tabular}{r|lllllllllll}\n",
       " agency & hom16 & hom15 & rap16 & rap15 & rob16 & rob15 & agg16 & agg15 & non16 & non15\\\\\n",
       "\\hline\n",
       "\t Albuquerque PD      & 34                  & 25                  & 156                 & 199                 &  753                &  861                & 1601                & 1608                & 125                 &  NA                \\\\\n",
       "\t Arlington PD        & 13                  &  4                  & 123                 & 117                 &  245                &  248                &  668                &  600                &  NA                 &  NA                \\\\\n",
       "\t Atlanta PD          & 57                  & 45                  &  72                 &  72                 & 1005                & 1003                & 1028                & 1064                & 161                 & 161                \\\\\n",
       "\t Aurora PD           & 10                  &  7                  & 127                 & 149                 &  287                &  205                &  390                &  317                &  18                 &  15                \\\\\n",
       "\t Austin PD           & 12                  &  9                  & 328                 & 387                 &  516                &  446                & 1114                &  942                &  NA                 &  NA                \\\\\n",
       "\t Baltimore County PD & 16                  & 14                  & 141                 & 134                 &  583                &  652                &  823                & 1193                &  20                 &  18                \\\\\n",
       "\\end{tabular}\n"
      ],
      "text/markdown": [
       "\n",
       "agency | hom16 | hom15 | rap16 | rap15 | rob16 | rob15 | agg16 | agg15 | non16 | non15 | \n",
       "|---|---|---|---|---|---|\n",
       "| Albuquerque PD      | 34                  | 25                  | 156                 | 199                 |  753                |  861                | 1601                | 1608                | 125                 |  NA                 | \n",
       "| Arlington PD        | 13                  |  4                  | 123                 | 117                 |  245                |  248                |  668                |  600                |  NA                 |  NA                 | \n",
       "| Atlanta PD          | 57                  | 45                  |  72                 |  72                 | 1005                | 1003                | 1028                | 1064                | 161                 | 161                 | \n",
       "| Aurora PD           | 10                  |  7                  | 127                 | 149                 |  287                |  205                |  390                |  317                |  18                 |  15                 | \n",
       "| Austin PD           | 12                  |  9                  | 328                 | 387                 |  516                |  446                | 1114                |  942                |  NA                 |  NA                 | \n",
       "| Baltimore County PD | 16                  | 14                  | 141                 | 134                 |  583                |  652                |  823                | 1193                |  20                 |  18                 | \n",
       "\n",
       "\n"
      ],
      "text/plain": [
       "  agency              hom16 hom15 rap16 rap15 rob16 rob15 agg16 agg15 non16\n",
       "1 Albuquerque PD      34    25    156   199    753   861  1601  1608  125  \n",
       "2 Arlington PD        13     4    123   117    245   248   668   600   NA  \n",
       "3 Atlanta PD          57    45     72    72   1005  1003  1028  1064  161  \n",
       "4 Aurora PD           10     7    127   149    287   205   390   317   18  \n",
       "5 Austin PD           12     9    328   387    516   446  1114   942   NA  \n",
       "6 Baltimore County PD 16    14    141   134    583   652   823  1193   20  \n",
       "  non15\n",
       "1  NA  \n",
       "2  NA  \n",
       "3 161  \n",
       "4  15  \n",
       "5  NA  \n",
       "6  18  "
      ]
     },
     "metadata": {},
     "output_type": "display_data"
    }
   ],
   "source": [
    "chiefs <- read.csv(\"https://github.com/cocteau/lede2018/raw/master/data/mcca.csv\",as.is=TRUE)\n",
    "head(chiefs)"
   ]
  },
  {
   "cell_type": "code",
   "execution_count": 2,
   "metadata": {},
   "outputs": [
    {
     "data": {
      "text/html": [
       "<table>\n",
       "<thead><tr><th></th><th scope=col>agency</th><th scope=col>hom16</th><th scope=col>hom15</th><th scope=col>rap16</th><th scope=col>rap15</th><th scope=col>rob16</th><th scope=col>rob15</th><th scope=col>agg16</th><th scope=col>agg15</th><th scope=col>non16</th><th scope=col>non15</th></tr></thead>\n",
       "<tbody>\n",
       "\t<tr><th scope=row>57</th><td>Tampa PD                </td><td>12                      </td><td>21                      </td><td> 45                     </td><td> 32                     </td><td> 258                    </td><td> 296                    </td><td> 659                    </td><td> 772                    </td><td>38                      </td><td>75                      </td></tr>\n",
       "\t<tr><th scope=row>58</th><td>Tucson PD               </td><td>11                      </td><td>16                      </td><td>221                     </td><td>213                     </td><td> 537                    </td><td> 516                    </td><td>1219                    </td><td> 961                    </td><td>NA                      </td><td>NA                      </td></tr>\n",
       "\t<tr><th scope=row>59</th><td>Tulsa PD                </td><td>30                      </td><td>27                      </td><td>185                     </td><td>170                     </td><td> 459                    </td><td> 426                    </td><td>1345                    </td><td>1176                    </td><td>NA                      </td><td>NA                      </td></tr>\n",
       "\t<tr><th scope=row>60</th><td>Virginia Beach PD       </td><td> 8                      </td><td>12                      </td><td>102                     </td><td> 75                     </td><td> 131                    </td><td> 126                    </td><td> 136                    </td><td> 129                    </td><td>NA                      </td><td>NA                      </td></tr>\n",
       "\t<tr><th scope=row>61</th><td>Washington DC (Metro PD)</td><td>68                      </td><td>63                      </td><td>145                     </td><td>128                     </td><td>1491                    </td><td>1527                    </td><td>1102                    </td><td>1211                    </td><td>NA                      </td><td>NA                      </td></tr>\n",
       "\t<tr><th scope=row>62</th><td>Wichita PD              </td><td>10                      </td><td>13                      </td><td>183                     </td><td>165                     </td><td> 289                    </td><td> 329                    </td><td>1100                    </td><td> 855                    </td><td>61                      </td><td>24                      </td></tr>\n",
       "</tbody>\n",
       "</table>\n"
      ],
      "text/latex": [
       "\\begin{tabular}{r|lllllllllll}\n",
       "  & agency & hom16 & hom15 & rap16 & rap15 & rob16 & rob15 & agg16 & agg15 & non16 & non15\\\\\n",
       "\\hline\n",
       "\t57 & Tampa PD                 & 12                       & 21                       &  45                      &  32                      &  258                     &  296                     &  659                     &  772                     & 38                       & 75                      \\\\\n",
       "\t58 & Tucson PD                & 11                       & 16                       & 221                      & 213                      &  537                     &  516                     & 1219                     &  961                     & NA                       & NA                      \\\\\n",
       "\t59 & Tulsa PD                 & 30                       & 27                       & 185                      & 170                      &  459                     &  426                     & 1345                     & 1176                     & NA                       & NA                      \\\\\n",
       "\t60 & Virginia Beach PD        &  8                       & 12                       & 102                      &  75                      &  131                     &  126                     &  136                     &  129                     & NA                       & NA                      \\\\\n",
       "\t61 & Washington DC (Metro PD) & 68                       & 63                       & 145                      & 128                      & 1491                     & 1527                     & 1102                     & 1211                     & NA                       & NA                      \\\\\n",
       "\t62 & Wichita PD               & 10                       & 13                       & 183                      & 165                      &  289                     &  329                     & 1100                     &  855                     & 61                       & 24                      \\\\\n",
       "\\end{tabular}\n"
      ],
      "text/markdown": [
       "\n",
       "| <!--/--> | agency | hom16 | hom15 | rap16 | rap15 | rob16 | rob15 | agg16 | agg15 | non16 | non15 | \n",
       "|---|---|---|---|---|---|\n",
       "| 57 | Tampa PD                 | 12                       | 21                       |  45                      |  32                      |  258                     |  296                     |  659                     |  772                     | 38                       | 75                       | \n",
       "| 58 | Tucson PD                | 11                       | 16                       | 221                      | 213                      |  537                     |  516                     | 1219                     |  961                     | NA                       | NA                       | \n",
       "| 59 | Tulsa PD                 | 30                       | 27                       | 185                      | 170                      |  459                     |  426                     | 1345                     | 1176                     | NA                       | NA                       | \n",
       "| 60 | Virginia Beach PD        |  8                       | 12                       | 102                      |  75                      |  131                     |  126                     |  136                     |  129                     | NA                       | NA                       | \n",
       "| 61 | Washington DC (Metro PD) | 68                       | 63                       | 145                      | 128                      | 1491                     | 1527                     | 1102                     | 1211                     | NA                       | NA                       | \n",
       "| 62 | Wichita PD               | 10                       | 13                       | 183                      | 165                      |  289                     |  329                     | 1100                     |  855                     | 61                       | 24                       | \n",
       "\n",
       "\n"
      ],
      "text/plain": [
       "   agency                   hom16 hom15 rap16 rap15 rob16 rob15 agg16 agg15\n",
       "57 Tampa PD                 12    21     45    32    258   296   659   772 \n",
       "58 Tucson PD                11    16    221   213    537   516  1219   961 \n",
       "59 Tulsa PD                 30    27    185   170    459   426  1345  1176 \n",
       "60 Virginia Beach PD         8    12    102    75    131   126   136   129 \n",
       "61 Washington DC (Metro PD) 68    63    145   128   1491  1527  1102  1211 \n",
       "62 Wichita PD               10    13    183   165    289   329  1100   855 \n",
       "   non16 non15\n",
       "57 38    75   \n",
       "58 NA    NA   \n",
       "59 NA    NA   \n",
       "60 NA    NA   \n",
       "61 NA    NA   \n",
       "62 61    24   "
      ]
     },
     "metadata": {},
     "output_type": "display_data"
    }
   ],
   "source": [
    "tail(chiefs)"
   ]
  },
  {
   "cell_type": "markdown",
   "metadata": {},
   "source": [
    "Again, \"chiefs\" is a data frame and `head()` and `tail()` give us a peak at the top and bottom. We can see how much there is using the command `dim()`."
   ]
  },
  {
   "cell_type": "code",
   "execution_count": 3,
   "metadata": {},
   "outputs": [
    {
     "data": {
      "text/html": [
       "<ol class=list-inline>\n",
       "\t<li>62</li>\n",
       "\t<li>11</li>\n",
       "</ol>\n"
      ],
      "text/latex": [
       "\\begin{enumerate*}\n",
       "\\item 62\n",
       "\\item 11\n",
       "\\end{enumerate*}\n"
      ],
      "text/markdown": [
       "1. 62\n",
       "2. 11\n",
       "\n",
       "\n"
      ],
      "text/plain": [
       "[1] 62 11"
      ]
     },
     "metadata": {},
     "output_type": "display_data"
    }
   ],
   "source": [
    "dim(chiefs)"
   ]
  },
  {
   "cell_type": "markdown",
   "metadata": {},
   "source": [
    "Which means 62 agencies, with 11 different attributes recorded for each."
   ]
  },
  {
   "cell_type": "markdown",
   "metadata": {},
   "source": [
    "Mid-year Crime Calculations\n",
    "---------------------------\n",
    "\n",
    "That's enough background for one day. Let's look at the data. When the MCCA report appearaed over the summer, it generated some attention. [CNN](http://www.cnn.com/2016/07/25/politics/violent-crime-report-us-cities-homicides-rapes/), [Breitbart](http://www.breitbart.com/big-government/2016/07/26/survey-violent-crime-major-cities/), [The New York Times](http://www.nytimes.com/2016/05/14/us/murder-rates-cities-fbi.html) and a number of other outlets picked up the data and tried to draw some meaning from it. Have a read and see what you think. \n",
    "\n",
    "In the cell below, write a 3 sentence summary (or less) of what the data are, who collected them and why. With that completed, what kinds of questions do we want to ask about these data? Write down 5 questions."
   ]
  },
  {
   "cell_type": "markdown",
   "metadata": {},
   "source": [
    "**The data:** \n",
    "\n",
    "\n",
    "\n",
    "**My questions**\n",
    "\n"
   ]
  },
  {
   "cell_type": "markdown",
   "metadata": {},
   "source": [
    "During his primary run, in a speech the RNC, Trump said that “Our president, who has used the pulpit of the presidency to divide us by race and color, has made America a more dangerous environment for everyone than frankly I have ever seen and anybody in this room has ever watched or seen.” This kicked off a wave of reporting about the safety of our cities. At the DNC in Philadelphia, Obama responded, “Donald Trump calls [America] ‘a divided crime scene’ that only he can fix. It doesn’t matter to him that illegal immigration and the crime rate are as low as they’ve been in decades…”\n",
    "\n",
    "How do we think about these conflicting impressions? We'll look at this question while learning a bit of R syntax (heck it's day 1).\n",
    "\n",
    "**Extracting data**. To try out your skills let's do a speed round of simple tasks. First, extract just the agency names from this table as a vector. Hint: You'll need to use the `$`. You can also use the `filter()` command and other verbs from dplyr2. Try them all out to get comfortable. The goal of this homework is to rehearse some of what we went over in class. I want you to be comfortable with both simple extractions like with the `$` and Pandas-like subsetting, together with the verbs from dplyr2."
   ]
  },
  {
   "cell_type": "code",
   "execution_count": 4,
   "metadata": {
    "scrolled": false
   },
   "outputs": [
    {
     "data": {
      "text/html": [
       "<ol class=list-inline>\n",
       "\t<li>'Albuquerque PD'</li>\n",
       "\t<li>'Arlington PD'</li>\n",
       "\t<li>'Atlanta PD'</li>\n",
       "\t<li>'Aurora PD'</li>\n",
       "\t<li>'Austin PD'</li>\n",
       "\t<li>'Baltimore County PD'</li>\n",
       "\t<li>'Baltimore PD'</li>\n",
       "\t<li>'Boston PD'</li>\n",
       "\t<li>'Charlotte-Mecklenburg PD'</li>\n",
       "\t<li>'Chicago PD'</li>\n",
       "\t<li>'Cincinnati PD'</li>\n",
       "\t<li>'Cleveland PD'</li>\n",
       "\t<li>'Columbus Police'</li>\n",
       "\t<li>'Dallas PD'</li>\n",
       "\t<li>'Denver PD'</li>\n",
       "\t<li>'El Paso PD'</li>\n",
       "\t<li>'Fairfax County PD'</li>\n",
       "\t<li>'Fort Worth PD'</li>\n",
       "\t<li>'Fresno PD'</li>\n",
       "\t<li>'Honolulu PD 2'</li>\n",
       "\t<li>'Houston PD'</li>\n",
       "\t<li>'Indianapolis PD'</li>\n",
       "\t<li>'Jacksonville Sheriff\\'s Dept'</li>\n",
       "\t<li>'Las Vegas Metropolitan PD'</li>\n",
       "\t<li>'Long Beach PD'</li>\n",
       "\t<li>'Los Angeles County Sheriff\\'s Dept'</li>\n",
       "\t<li>'Los Angeles PD'</li>\n",
       "\t<li>'Louisville Metro PD'</li>\n",
       "\t<li>'Memphis PD'</li>\n",
       "\t<li>'Mesa PD'</li>\n",
       "\t<li>'Miami PD'</li>\n",
       "\t<li>'Miami-Dade PD'</li>\n",
       "\t<li>'Milwaukee PD'</li>\n",
       "\t<li>'Montgomery Co PD'</li>\n",
       "\t<li>'Nashville PD'</li>\n",
       "\t<li>'Nassau County PD 1'</li>\n",
       "\t<li>'New Orleans PD'</li>\n",
       "\t<li>'New York City PD'</li>\n",
       "\t<li>'Newark PD'</li>\n",
       "\t<li>'Oakland PD'</li>\n",
       "\t<li>'Oklahoma City PD 2'</li>\n",
       "\t<li>'Omaha NE PD'</li>\n",
       "\t<li>'Orlando PD 3'</li>\n",
       "\t<li>'Philadelphia PD'</li>\n",
       "\t<li>'Phoenix PD 4'</li>\n",
       "\t<li>'Pittsburgh PD'</li>\n",
       "\t<li>'Prince George’s County PD'</li>\n",
       "\t<li>'Raleigh PD'</li>\n",
       "\t<li>'Sacramento PD'</li>\n",
       "\t<li>'Salt Lake City PD'</li>\n",
       "\t<li>'San Antonio PD'</li>\n",
       "\t<li>'San Diego PD'</li>\n",
       "\t<li>'San Francisco PD'</li>\n",
       "\t<li>'San Jose PD'</li>\n",
       "\t<li>'Seattle PD'</li>\n",
       "\t<li>'St. Louis Metro PD'</li>\n",
       "\t<li>'Tampa PD'</li>\n",
       "\t<li>'Tucson PD'</li>\n",
       "\t<li>'Tulsa PD'</li>\n",
       "\t<li>'Virginia Beach PD'</li>\n",
       "\t<li>'Washington DC (Metro PD)'</li>\n",
       "\t<li>'Wichita PD'</li>\n",
       "</ol>\n"
      ],
      "text/latex": [
       "\\begin{enumerate*}\n",
       "\\item 'Albuquerque PD'\n",
       "\\item 'Arlington PD'\n",
       "\\item 'Atlanta PD'\n",
       "\\item 'Aurora PD'\n",
       "\\item 'Austin PD'\n",
       "\\item 'Baltimore County PD'\n",
       "\\item 'Baltimore PD'\n",
       "\\item 'Boston PD'\n",
       "\\item 'Charlotte-Mecklenburg PD'\n",
       "\\item 'Chicago PD'\n",
       "\\item 'Cincinnati PD'\n",
       "\\item 'Cleveland PD'\n",
       "\\item 'Columbus Police'\n",
       "\\item 'Dallas PD'\n",
       "\\item 'Denver PD'\n",
       "\\item 'El Paso PD'\n",
       "\\item 'Fairfax County PD'\n",
       "\\item 'Fort Worth PD'\n",
       "\\item 'Fresno PD'\n",
       "\\item 'Honolulu PD 2'\n",
       "\\item 'Houston PD'\n",
       "\\item 'Indianapolis PD'\n",
       "\\item 'Jacksonville Sheriff\\textbackslash{}'s Dept'\n",
       "\\item 'Las Vegas Metropolitan PD'\n",
       "\\item 'Long Beach PD'\n",
       "\\item 'Los Angeles County Sheriff\\textbackslash{}'s Dept'\n",
       "\\item 'Los Angeles PD'\n",
       "\\item 'Louisville Metro PD'\n",
       "\\item 'Memphis PD'\n",
       "\\item 'Mesa PD'\n",
       "\\item 'Miami PD'\n",
       "\\item 'Miami-Dade PD'\n",
       "\\item 'Milwaukee PD'\n",
       "\\item 'Montgomery Co PD'\n",
       "\\item 'Nashville PD'\n",
       "\\item 'Nassau County PD 1'\n",
       "\\item 'New Orleans PD'\n",
       "\\item 'New York City PD'\n",
       "\\item 'Newark PD'\n",
       "\\item 'Oakland PD'\n",
       "\\item 'Oklahoma City PD 2'\n",
       "\\item 'Omaha NE PD'\n",
       "\\item 'Orlando PD 3'\n",
       "\\item 'Philadelphia PD'\n",
       "\\item 'Phoenix PD 4'\n",
       "\\item 'Pittsburgh PD'\n",
       "\\item 'Prince George’s County PD'\n",
       "\\item 'Raleigh PD'\n",
       "\\item 'Sacramento PD'\n",
       "\\item 'Salt Lake City PD'\n",
       "\\item 'San Antonio PD'\n",
       "\\item 'San Diego PD'\n",
       "\\item 'San Francisco PD'\n",
       "\\item 'San Jose PD'\n",
       "\\item 'Seattle PD'\n",
       "\\item 'St. Louis Metro PD'\n",
       "\\item 'Tampa PD'\n",
       "\\item 'Tucson PD'\n",
       "\\item 'Tulsa PD'\n",
       "\\item 'Virginia Beach PD'\n",
       "\\item 'Washington DC (Metro PD)'\n",
       "\\item 'Wichita PD'\n",
       "\\end{enumerate*}\n"
      ],
      "text/markdown": [
       "1. 'Albuquerque PD'\n",
       "2. 'Arlington PD'\n",
       "3. 'Atlanta PD'\n",
       "4. 'Aurora PD'\n",
       "5. 'Austin PD'\n",
       "6. 'Baltimore County PD'\n",
       "7. 'Baltimore PD'\n",
       "8. 'Boston PD'\n",
       "9. 'Charlotte-Mecklenburg PD'\n",
       "10. 'Chicago PD'\n",
       "11. 'Cincinnati PD'\n",
       "12. 'Cleveland PD'\n",
       "13. 'Columbus Police'\n",
       "14. 'Dallas PD'\n",
       "15. 'Denver PD'\n",
       "16. 'El Paso PD'\n",
       "17. 'Fairfax County PD'\n",
       "18. 'Fort Worth PD'\n",
       "19. 'Fresno PD'\n",
       "20. 'Honolulu PD 2'\n",
       "21. 'Houston PD'\n",
       "22. 'Indianapolis PD'\n",
       "23. 'Jacksonville Sheriff\\'s Dept'\n",
       "24. 'Las Vegas Metropolitan PD'\n",
       "25. 'Long Beach PD'\n",
       "26. 'Los Angeles County Sheriff\\'s Dept'\n",
       "27. 'Los Angeles PD'\n",
       "28. 'Louisville Metro PD'\n",
       "29. 'Memphis PD'\n",
       "30. 'Mesa PD'\n",
       "31. 'Miami PD'\n",
       "32. 'Miami-Dade PD'\n",
       "33. 'Milwaukee PD'\n",
       "34. 'Montgomery Co PD'\n",
       "35. 'Nashville PD'\n",
       "36. 'Nassau County PD 1'\n",
       "37. 'New Orleans PD'\n",
       "38. 'New York City PD'\n",
       "39. 'Newark PD'\n",
       "40. 'Oakland PD'\n",
       "41. 'Oklahoma City PD 2'\n",
       "42. 'Omaha NE PD'\n",
       "43. 'Orlando PD 3'\n",
       "44. 'Philadelphia PD'\n",
       "45. 'Phoenix PD 4'\n",
       "46. 'Pittsburgh PD'\n",
       "47. 'Prince George’s County PD'\n",
       "48. 'Raleigh PD'\n",
       "49. 'Sacramento PD'\n",
       "50. 'Salt Lake City PD'\n",
       "51. 'San Antonio PD'\n",
       "52. 'San Diego PD'\n",
       "53. 'San Francisco PD'\n",
       "54. 'San Jose PD'\n",
       "55. 'Seattle PD'\n",
       "56. 'St. Louis Metro PD'\n",
       "57. 'Tampa PD'\n",
       "58. 'Tucson PD'\n",
       "59. 'Tulsa PD'\n",
       "60. 'Virginia Beach PD'\n",
       "61. 'Washington DC (Metro PD)'\n",
       "62. 'Wichita PD'\n",
       "\n",
       "\n"
      ],
      "text/plain": [
       " [1] \"Albuquerque PD\"                    \"Arlington PD\"                     \n",
       " [3] \"Atlanta PD\"                        \"Aurora PD\"                        \n",
       " [5] \"Austin PD\"                         \"Baltimore County PD\"              \n",
       " [7] \"Baltimore PD\"                      \"Boston PD\"                        \n",
       " [9] \"Charlotte-Mecklenburg PD\"          \"Chicago PD\"                       \n",
       "[11] \"Cincinnati PD\"                     \"Cleveland PD\"                     \n",
       "[13] \"Columbus Police\"                   \"Dallas PD\"                        \n",
       "[15] \"Denver PD\"                         \"El Paso PD\"                       \n",
       "[17] \"Fairfax County PD\"                 \"Fort Worth PD\"                    \n",
       "[19] \"Fresno PD\"                         \"Honolulu PD 2\"                    \n",
       "[21] \"Houston PD\"                        \"Indianapolis PD\"                  \n",
       "[23] \"Jacksonville Sheriff's Dept\"       \"Las Vegas Metropolitan PD\"        \n",
       "[25] \"Long Beach PD\"                     \"Los Angeles County Sheriff's Dept\"\n",
       "[27] \"Los Angeles PD\"                    \"Louisville Metro PD\"              \n",
       "[29] \"Memphis PD\"                        \"Mesa PD\"                          \n",
       "[31] \"Miami PD\"                          \"Miami-Dade PD\"                    \n",
       "[33] \"Milwaukee PD\"                      \"Montgomery Co PD\"                 \n",
       "[35] \"Nashville PD\"                      \"Nassau County PD 1\"               \n",
       "[37] \"New Orleans PD\"                    \"New York City PD\"                 \n",
       "[39] \"Newark PD\"                         \"Oakland PD\"                       \n",
       "[41] \"Oklahoma City PD 2\"                \"Omaha NE PD\"                      \n",
       "[43] \"Orlando PD 3\"                      \"Philadelphia PD\"                  \n",
       "[45] \"Phoenix PD 4\"                      \"Pittsburgh PD\"                    \n",
       "[47] \"Prince George’s County PD\"         \"Raleigh PD\"                       \n",
       "[49] \"Sacramento PD\"                     \"Salt Lake City PD\"                \n",
       "[51] \"San Antonio PD\"                    \"San Diego PD\"                     \n",
       "[53] \"San Francisco PD\"                  \"San Jose PD\"                      \n",
       "[55] \"Seattle PD\"                        \"St. Louis Metro PD\"               \n",
       "[57] \"Tampa PD\"                          \"Tucson PD\"                        \n",
       "[59] \"Tulsa PD\"                          \"Virginia Beach PD\"                \n",
       "[61] \"Washington DC (Metro PD)\"          \"Wichita PD\"                       "
      ]
     },
     "metadata": {},
     "output_type": "display_data"
    }
   ],
   "source": [
    "# your one line here\n",
    "chiefs$agency"
   ]
  },
  {
   "cell_type": "code",
   "execution_count": 5,
   "metadata": {},
   "outputs": [
    {
     "name": "stderr",
     "output_type": "stream",
     "text": [
      "Warning message:\n",
      "“package ‘dplyr’ was built under R version 3.4.4”\n",
      "Attaching package: ‘dplyr’\n",
      "\n",
      "The following objects are masked from ‘package:stats’:\n",
      "\n",
      "    filter, lag\n",
      "\n",
      "The following objects are masked from ‘package:base’:\n",
      "\n",
      "    intersect, setdiff, setequal, union\n",
      "\n"
     ]
    },
    {
     "data": {
      "text/html": [
       "<table>\n",
       "<thead><tr><th scope=col>agency</th></tr></thead>\n",
       "<tbody>\n",
       "\t<tr><td>Albuquerque PD     </td></tr>\n",
       "\t<tr><td>Arlington PD       </td></tr>\n",
       "\t<tr><td>Atlanta PD         </td></tr>\n",
       "\t<tr><td>Aurora PD          </td></tr>\n",
       "\t<tr><td>Austin PD          </td></tr>\n",
       "\t<tr><td>Baltimore County PD</td></tr>\n",
       "</tbody>\n",
       "</table>\n"
      ],
      "text/latex": [
       "\\begin{tabular}{r|l}\n",
       " agency\\\\\n",
       "\\hline\n",
       "\t Albuquerque PD     \\\\\n",
       "\t Arlington PD       \\\\\n",
       "\t Atlanta PD         \\\\\n",
       "\t Aurora PD          \\\\\n",
       "\t Austin PD          \\\\\n",
       "\t Baltimore County PD\\\\\n",
       "\\end{tabular}\n"
      ],
      "text/markdown": [
       "\n",
       "agency | \n",
       "|---|---|---|---|---|---|\n",
       "| Albuquerque PD      | \n",
       "| Arlington PD        | \n",
       "| Atlanta PD          | \n",
       "| Aurora PD           | \n",
       "| Austin PD           | \n",
       "| Baltimore County PD | \n",
       "\n",
       "\n"
      ],
      "text/plain": [
       "  agency             \n",
       "1 Albuquerque PD     \n",
       "2 Arlington PD       \n",
       "3 Atlanta PD         \n",
       "4 Aurora PD          \n",
       "5 Austin PD          \n",
       "6 Baltimore County PD"
      ]
     },
     "metadata": {},
     "output_type": "display_data"
    }
   ],
   "source": [
    "library(dplyr)\n",
    "head(select(chiefs,agency))"
   ]
  },
  {
   "cell_type": "code",
   "execution_count": null,
   "metadata": {},
   "outputs": [],
   "source": []
  },
  {
   "cell_type": "markdown",
   "metadata": {},
   "source": [
    "... and the values for homicides in 2016."
   ]
  },
  {
   "cell_type": "code",
   "execution_count": 6,
   "metadata": {
    "scrolled": false
   },
   "outputs": [
    {
     "data": {
      "text/html": [
       "<ol class=list-inline>\n",
       "\t<li>34</li>\n",
       "\t<li>13</li>\n",
       "\t<li>57</li>\n",
       "\t<li>10</li>\n",
       "\t<li>12</li>\n",
       "\t<li>16</li>\n",
       "\t<li>137</li>\n",
       "\t<li>22</li>\n",
       "\t<li>25</li>\n",
       "\t<li>316</li>\n",
       "\t<li>35</li>\n",
       "\t<li>47</li>\n",
       "\t<li>39</li>\n",
       "\t<li>83</li>\n",
       "\t<li>19</li>\n",
       "\t<li>8</li>\n",
       "\t<li>7</li>\n",
       "\t<li>34</li>\n",
       "\t<li>17</li>\n",
       "\t<li>8</li>\n",
       "\t<li>158</li>\n",
       "\t<li>61</li>\n",
       "\t<li>59</li>\n",
       "\t<li>90</li>\n",
       "\t<li>15</li>\n",
       "\t<li>110</li>\n",
       "\t<li>134</li>\n",
       "\t<li>54</li>\n",
       "\t<li>106</li>\n",
       "\t<li>11</li>\n",
       "\t<li>27</li>\n",
       "\t<li>37</li>\n",
       "\t<li>54</li>\n",
       "\t<li>8</li>\n",
       "\t<li>34</li>\n",
       "\t<li>3</li>\n",
       "\t<li>67</li>\n",
       "\t<li>161</li>\n",
       "\t<li>45</li>\n",
       "\t<li>28</li>\n",
       "\t<li>19</li>\n",
       "\t<li>12</li>\n",
       "\t<li>65</li>\n",
       "\t<li>122</li>\n",
       "\t<li>78</li>\n",
       "\t<li>30</li>\n",
       "\t<li>48</li>\n",
       "\t<li>6</li>\n",
       "\t<li>13</li>\n",
       "\t<li>3</li>\n",
       "\t<li>70</li>\n",
       "\t<li>24</li>\n",
       "\t<li>26</li>\n",
       "\t<li>25</li>\n",
       "\t<li>12</li>\n",
       "\t<li>87</li>\n",
       "\t<li>12</li>\n",
       "\t<li>11</li>\n",
       "\t<li>30</li>\n",
       "\t<li>8</li>\n",
       "\t<li>68</li>\n",
       "\t<li>10</li>\n",
       "</ol>\n"
      ],
      "text/latex": [
       "\\begin{enumerate*}\n",
       "\\item 34\n",
       "\\item 13\n",
       "\\item 57\n",
       "\\item 10\n",
       "\\item 12\n",
       "\\item 16\n",
       "\\item 137\n",
       "\\item 22\n",
       "\\item 25\n",
       "\\item 316\n",
       "\\item 35\n",
       "\\item 47\n",
       "\\item 39\n",
       "\\item 83\n",
       "\\item 19\n",
       "\\item 8\n",
       "\\item 7\n",
       "\\item 34\n",
       "\\item 17\n",
       "\\item 8\n",
       "\\item 158\n",
       "\\item 61\n",
       "\\item 59\n",
       "\\item 90\n",
       "\\item 15\n",
       "\\item 110\n",
       "\\item 134\n",
       "\\item 54\n",
       "\\item 106\n",
       "\\item 11\n",
       "\\item 27\n",
       "\\item 37\n",
       "\\item 54\n",
       "\\item 8\n",
       "\\item 34\n",
       "\\item 3\n",
       "\\item 67\n",
       "\\item 161\n",
       "\\item 45\n",
       "\\item 28\n",
       "\\item 19\n",
       "\\item 12\n",
       "\\item 65\n",
       "\\item 122\n",
       "\\item 78\n",
       "\\item 30\n",
       "\\item 48\n",
       "\\item 6\n",
       "\\item 13\n",
       "\\item 3\n",
       "\\item 70\n",
       "\\item 24\n",
       "\\item 26\n",
       "\\item 25\n",
       "\\item 12\n",
       "\\item 87\n",
       "\\item 12\n",
       "\\item 11\n",
       "\\item 30\n",
       "\\item 8\n",
       "\\item 68\n",
       "\\item 10\n",
       "\\end{enumerate*}\n"
      ],
      "text/markdown": [
       "1. 34\n",
       "2. 13\n",
       "3. 57\n",
       "4. 10\n",
       "5. 12\n",
       "6. 16\n",
       "7. 137\n",
       "8. 22\n",
       "9. 25\n",
       "10. 316\n",
       "11. 35\n",
       "12. 47\n",
       "13. 39\n",
       "14. 83\n",
       "15. 19\n",
       "16. 8\n",
       "17. 7\n",
       "18. 34\n",
       "19. 17\n",
       "20. 8\n",
       "21. 158\n",
       "22. 61\n",
       "23. 59\n",
       "24. 90\n",
       "25. 15\n",
       "26. 110\n",
       "27. 134\n",
       "28. 54\n",
       "29. 106\n",
       "30. 11\n",
       "31. 27\n",
       "32. 37\n",
       "33. 54\n",
       "34. 8\n",
       "35. 34\n",
       "36. 3\n",
       "37. 67\n",
       "38. 161\n",
       "39. 45\n",
       "40. 28\n",
       "41. 19\n",
       "42. 12\n",
       "43. 65\n",
       "44. 122\n",
       "45. 78\n",
       "46. 30\n",
       "47. 48\n",
       "48. 6\n",
       "49. 13\n",
       "50. 3\n",
       "51. 70\n",
       "52. 24\n",
       "53. 26\n",
       "54. 25\n",
       "55. 12\n",
       "56. 87\n",
       "57. 12\n",
       "58. 11\n",
       "59. 30\n",
       "60. 8\n",
       "61. 68\n",
       "62. 10\n",
       "\n",
       "\n"
      ],
      "text/plain": [
       " [1]  34  13  57  10  12  16 137  22  25 316  35  47  39  83  19   8   7  34  17\n",
       "[20]   8 158  61  59  90  15 110 134  54 106  11  27  37  54   8  34   3  67 161\n",
       "[39]  45  28  19  12  65 122  78  30  48   6  13   3  70  24  26  25  12  87  12\n",
       "[58]  11  30   8  68  10"
      ]
     },
     "metadata": {},
     "output_type": "display_data"
    }
   ],
   "source": [
    "# your one line here\n",
    "chiefs$hom16"
   ]
  },
  {
   "cell_type": "markdown",
   "metadata": {},
   "source": [
    "**Computing crime rates**. We can compare the overall numbers of homicides in these 62 cities by adding or \"sum\"ing the columns for 2015 and 2016. Compute the total homicide count for 2015..."
   ]
  },
  {
   "cell_type": "code",
   "execution_count": 7,
   "metadata": {},
   "outputs": [
    {
     "data": {
      "text/html": [
       "2636"
      ],
      "text/latex": [
       "2636"
      ],
      "text/markdown": [
       "2636"
      ],
      "text/plain": [
       "[1] 2636"
      ]
     },
     "metadata": {},
     "output_type": "display_data"
    }
   ],
   "source": [
    "# your one line here\n",
    "sum_hom15 = sum(chiefs$hom15)\n",
    "sum_hom15"
   ]
  },
  {
   "cell_type": "markdown",
   "metadata": {},
   "source": [
    "... and then do it for for 2016."
   ]
  },
  {
   "cell_type": "code",
   "execution_count": 8,
   "metadata": {},
   "outputs": [
    {
     "data": {
      "text/html": [
       "2980"
      ],
      "text/latex": [
       "2980"
      ],
      "text/markdown": [
       "2980"
      ],
      "text/plain": [
       "[1] 2980"
      ]
     },
     "metadata": {},
     "output_type": "display_data"
    }
   ],
   "source": [
    "# your one line here\n",
    "sum_hom16 = sum(chiefs$hom16)\n",
    "sum_hom16"
   ]
  },
  {
   "cell_type": "markdown",
   "metadata": {},
   "source": [
    "To compare the overall change from 2015 to 2016, we might take the percentage change. That is the difference between homicides in 2016 and 2015 divided by the total in 2015. Use the two numbers above to compute this percent change..."
   ]
  },
  {
   "cell_type": "code",
   "execution_count": 9,
   "metadata": {},
   "outputs": [
    {
     "data": {
      "text/html": [
       "0.130500758725341"
      ],
      "text/latex": [
       "0.130500758725341"
      ],
      "text/markdown": [
       "0.130500758725341"
      ],
      "text/plain": [
       "[1] 0.1305008"
      ]
     },
     "metadata": {},
     "output_type": "display_data"
    }
   ],
   "source": [
    "# your one line here\n",
    "(sum_hom16 - sum_hom15) / sum_hom15"
   ]
  },
  {
   "cell_type": "markdown",
   "metadata": {},
   "source": [
    "A big increase. Now, let's compute the rates of change for each agency. Rather than work on the crime categories separately, We will focuse on [violent crime](https://ucr.fbi.gov/crime-in-the-u.s/2011/crime-in-the-u.s.-2011/violent-crime/violent-crime). The FBI defines violent crime as the sum of homicides, rapes, robberies and aggravated assault. Let's use R to create these sums.\n",
    "\n",
    "We can add up the four crime categories as \"vectors\" -- meaning we can add up all four crime categories for each agency with a simple mathematical expression. Add up the data for 2016 for homicides, rapes, robberies and aggravated assaults."
   ]
  },
  {
   "cell_type": "code",
   "execution_count": 10,
   "metadata": {},
   "outputs": [
    {
     "data": {
      "text/html": [
       "2980"
      ],
      "text/latex": [
       "2980"
      ],
      "text/markdown": [
       "2980"
      ],
      "text/plain": [
       "[1] 2980"
      ]
     },
     "metadata": {},
     "output_type": "display_data"
    },
    {
     "data": {
      "text/html": [
       "13267"
      ],
      "text/latex": [
       "13267"
      ],
      "text/markdown": [
       "13267"
      ],
      "text/plain": [
       "[1] 13267"
      ]
     },
     "metadata": {},
     "output_type": "display_data"
    },
    {
     "data": {
      "text/html": [
       "67642"
      ],
      "text/latex": [
       "67642"
      ],
      "text/markdown": [
       "67642"
      ],
      "text/plain": [
       "[1] 67642"
      ]
     },
     "metadata": {},
     "output_type": "display_data"
    },
    {
     "data": {
      "text/html": [
       "97222"
      ],
      "text/latex": [
       "97222"
      ],
      "text/markdown": [
       "97222"
      ],
      "text/plain": [
       "[1] 97222"
      ]
     },
     "metadata": {},
     "output_type": "display_data"
    },
    {
     "data": {
      "text/html": [
       "181111"
      ],
      "text/latex": [
       "181111"
      ],
      "text/markdown": [
       "181111"
      ],
      "text/plain": [
       "[1] 181111"
      ]
     },
     "metadata": {},
     "output_type": "display_data"
    }
   ],
   "source": [
    "# your one line here\n",
    "# hom16\thom15\trap16\trap15\trob16\trob15\tagg16\tagg15\tnon16\tnon15\n",
    "\n",
    "sum(chiefs$hom16)\n",
    "sum(chiefs$rap16, na.rm=T) # It has NAs\n",
    "sum(chiefs$rob16, na.rm=T) # It has NAs\n",
    "sum(chiefs$agg16, na.rm=T) # It has NAs\n",
    "\n",
    "sum(chiefs$hom16) + sum(chiefs$rap16, na.rm=T) + sum(chiefs$rob16, na.rm=T) + sum(chiefs$agg16, na.rm=T)"
   ]
  },
  {
   "cell_type": "code",
   "execution_count": null,
   "metadata": {},
   "outputs": [],
   "source": [
    "chiefs %>%\n",
    "    group_by(agency) %>%\n",
    "    summarize(sum_hom16 = sum(chiefs$hom16), sum_rap16 = sum(chiefs$rap16, na.rm=T), sum_rob16 = sum(chiefs$rob16, na.rm=T), sum_agg16 = sum(chiefs$agg16, na.rm=T)) %>%\n",
    "    mutate(sum_hom16 + sum_rap16 + sum_rob16 + sum_agg16) -> vc16\n",
    "\n",
    "head(chiefs)"
   ]
  },
  {
   "cell_type": "markdown",
   "metadata": {},
   "source": [
    "... And  store it back in the original data frame using the \"$\" notation or `mutate()` as we did in class. Call the new variable `vc16` for \"violent crime 2016\""
   ]
  },
  {
   "cell_type": "code",
   "execution_count": 13,
   "metadata": {},
   "outputs": [
    {
     "name": "stderr",
     "output_type": "stream",
     "text": [
      "Warning message:\n",
      "“package ‘bindrcpp’ was built under R version 3.4.4”"
     ]
    },
    {
     "data": {
      "text/html": [
       "<table>\n",
       "<thead><tr><th scope=col>agency</th><th scope=col>hom16</th><th scope=col>hom15</th><th scope=col>rap16</th><th scope=col>rap15</th><th scope=col>rob16</th><th scope=col>rob15</th><th scope=col>agg16</th><th scope=col>agg15</th><th scope=col>non16</th><th scope=col>non15</th><th scope=col>vc16</th></tr></thead>\n",
       "<tbody>\n",
       "\t<tr><td>Albuquerque PD     </td><td>34                 </td><td>25                 </td><td>156                </td><td>199                </td><td> 753               </td><td> 861               </td><td>1601               </td><td>1608               </td><td>125                </td><td> NA                </td><td>2544               </td></tr>\n",
       "\t<tr><td>Arlington PD       </td><td>13                 </td><td> 4                 </td><td>123                </td><td>117                </td><td> 245               </td><td> 248               </td><td> 668               </td><td> 600               </td><td> NA                </td><td> NA                </td><td>1049               </td></tr>\n",
       "\t<tr><td>Atlanta PD         </td><td>57                 </td><td>45                 </td><td> 72                </td><td> 72                </td><td>1005               </td><td>1003               </td><td>1028               </td><td>1064               </td><td>161                </td><td>161                </td><td>2162               </td></tr>\n",
       "\t<tr><td>Aurora PD          </td><td>10                 </td><td> 7                 </td><td>127                </td><td>149                </td><td> 287               </td><td> 205               </td><td> 390               </td><td> 317               </td><td> 18                </td><td> 15                </td><td> 814               </td></tr>\n",
       "\t<tr><td>Austin PD          </td><td>12                 </td><td> 9                 </td><td>328                </td><td>387                </td><td> 516               </td><td> 446               </td><td>1114               </td><td> 942               </td><td> NA                </td><td> NA                </td><td>1970               </td></tr>\n",
       "\t<tr><td>Baltimore County PD</td><td>16                 </td><td>14                 </td><td>141                </td><td>134                </td><td> 583               </td><td> 652               </td><td> 823               </td><td>1193               </td><td> 20                </td><td> 18                </td><td>1563               </td></tr>\n",
       "</tbody>\n",
       "</table>\n"
      ],
      "text/latex": [
       "\\begin{tabular}{r|llllllllllll}\n",
       " agency & hom16 & hom15 & rap16 & rap15 & rob16 & rob15 & agg16 & agg15 & non16 & non15 & vc16\\\\\n",
       "\\hline\n",
       "\t Albuquerque PD      & 34                  & 25                  & 156                 & 199                 &  753                &  861                & 1601                & 1608                & 125                 &  NA                 & 2544               \\\\\n",
       "\t Arlington PD        & 13                  &  4                  & 123                 & 117                 &  245                &  248                &  668                &  600                &  NA                 &  NA                 & 1049               \\\\\n",
       "\t Atlanta PD          & 57                  & 45                  &  72                 &  72                 & 1005                & 1003                & 1028                & 1064                & 161                 & 161                 & 2162               \\\\\n",
       "\t Aurora PD           & 10                  &  7                  & 127                 & 149                 &  287                &  205                &  390                &  317                &  18                 &  15                 &  814               \\\\\n",
       "\t Austin PD           & 12                  &  9                  & 328                 & 387                 &  516                &  446                & 1114                &  942                &  NA                 &  NA                 & 1970               \\\\\n",
       "\t Baltimore County PD & 16                  & 14                  & 141                 & 134                 &  583                &  652                &  823                & 1193                &  20                 &  18                 & 1563               \\\\\n",
       "\\end{tabular}\n"
      ],
      "text/markdown": [
       "\n",
       "agency | hom16 | hom15 | rap16 | rap15 | rob16 | rob15 | agg16 | agg15 | non16 | non15 | vc16 | \n",
       "|---|---|---|---|---|---|\n",
       "| Albuquerque PD      | 34                  | 25                  | 156                 | 199                 |  753                |  861                | 1601                | 1608                | 125                 |  NA                 | 2544                | \n",
       "| Arlington PD        | 13                  |  4                  | 123                 | 117                 |  245                |  248                |  668                |  600                |  NA                 |  NA                 | 1049                | \n",
       "| Atlanta PD          | 57                  | 45                  |  72                 |  72                 | 1005                | 1003                | 1028                | 1064                | 161                 | 161                 | 2162                | \n",
       "| Aurora PD           | 10                  |  7                  | 127                 | 149                 |  287                |  205                |  390                |  317                |  18                 |  15                 |  814                | \n",
       "| Austin PD           | 12                  |  9                  | 328                 | 387                 |  516                |  446                | 1114                |  942                |  NA                 |  NA                 | 1970                | \n",
       "| Baltimore County PD | 16                  | 14                  | 141                 | 134                 |  583                |  652                |  823                | 1193                |  20                 |  18                 | 1563                | \n",
       "\n",
       "\n"
      ],
      "text/plain": [
       "  agency              hom16 hom15 rap16 rap15 rob16 rob15 agg16 agg15 non16\n",
       "1 Albuquerque PD      34    25    156   199    753   861  1601  1608  125  \n",
       "2 Arlington PD        13     4    123   117    245   248   668   600   NA  \n",
       "3 Atlanta PD          57    45     72    72   1005  1003  1028  1064  161  \n",
       "4 Aurora PD           10     7    127   149    287   205   390   317   18  \n",
       "5 Austin PD           12     9    328   387    516   446  1114   942   NA  \n",
       "6 Baltimore County PD 16    14    141   134    583   652   823  1193   20  \n",
       "  non15 vc16\n",
       "1  NA   2544\n",
       "2  NA   1049\n",
       "3 161   2162\n",
       "4  15    814\n",
       "5  NA   1970\n",
       "6  18   1563"
      ]
     },
     "metadata": {},
     "output_type": "display_data"
    }
   ],
   "source": [
    "# your code here\n",
    "chiefs <- mutate(chiefs, vc16 = chiefs$hom16 + chiefs$rap16 + chiefs$rob16 + chiefs$agg16)\n",
    "head(chiefs)"
   ]
  },
  {
   "cell_type": "markdown",
   "metadata": {},
   "source": [
    "Have a look at the top of the file to make sure your column has been added. "
   ]
  },
  {
   "cell_type": "code",
   "execution_count": 14,
   "metadata": {},
   "outputs": [
    {
     "data": {
      "text/html": [
       "<table>\n",
       "<thead><tr><th scope=col>agency</th><th scope=col>hom16</th><th scope=col>hom15</th><th scope=col>rap16</th><th scope=col>rap15</th><th scope=col>rob16</th><th scope=col>rob15</th><th scope=col>agg16</th><th scope=col>agg15</th><th scope=col>non16</th><th scope=col>non15</th><th scope=col>vc16</th></tr></thead>\n",
       "<tbody>\n",
       "\t<tr><td>Albuquerque PD     </td><td>34                 </td><td>25                 </td><td>156                </td><td>199                </td><td> 753               </td><td> 861               </td><td>1601               </td><td>1608               </td><td>125                </td><td> NA                </td><td>2544               </td></tr>\n",
       "\t<tr><td>Arlington PD       </td><td>13                 </td><td> 4                 </td><td>123                </td><td>117                </td><td> 245               </td><td> 248               </td><td> 668               </td><td> 600               </td><td> NA                </td><td> NA                </td><td>1049               </td></tr>\n",
       "\t<tr><td>Atlanta PD         </td><td>57                 </td><td>45                 </td><td> 72                </td><td> 72                </td><td>1005               </td><td>1003               </td><td>1028               </td><td>1064               </td><td>161                </td><td>161                </td><td>2162               </td></tr>\n",
       "\t<tr><td>Aurora PD          </td><td>10                 </td><td> 7                 </td><td>127                </td><td>149                </td><td> 287               </td><td> 205               </td><td> 390               </td><td> 317               </td><td> 18                </td><td> 15                </td><td> 814               </td></tr>\n",
       "\t<tr><td>Austin PD          </td><td>12                 </td><td> 9                 </td><td>328                </td><td>387                </td><td> 516               </td><td> 446               </td><td>1114               </td><td> 942               </td><td> NA                </td><td> NA                </td><td>1970               </td></tr>\n",
       "\t<tr><td>Baltimore County PD</td><td>16                 </td><td>14                 </td><td>141                </td><td>134                </td><td> 583               </td><td> 652               </td><td> 823               </td><td>1193               </td><td> 20                </td><td> 18                </td><td>1563               </td></tr>\n",
       "</tbody>\n",
       "</table>\n"
      ],
      "text/latex": [
       "\\begin{tabular}{r|llllllllllll}\n",
       " agency & hom16 & hom15 & rap16 & rap15 & rob16 & rob15 & agg16 & agg15 & non16 & non15 & vc16\\\\\n",
       "\\hline\n",
       "\t Albuquerque PD      & 34                  & 25                  & 156                 & 199                 &  753                &  861                & 1601                & 1608                & 125                 &  NA                 & 2544               \\\\\n",
       "\t Arlington PD        & 13                  &  4                  & 123                 & 117                 &  245                &  248                &  668                &  600                &  NA                 &  NA                 & 1049               \\\\\n",
       "\t Atlanta PD          & 57                  & 45                  &  72                 &  72                 & 1005                & 1003                & 1028                & 1064                & 161                 & 161                 & 2162               \\\\\n",
       "\t Aurora PD           & 10                  &  7                  & 127                 & 149                 &  287                &  205                &  390                &  317                &  18                 &  15                 &  814               \\\\\n",
       "\t Austin PD           & 12                  &  9                  & 328                 & 387                 &  516                &  446                & 1114                &  942                &  NA                 &  NA                 & 1970               \\\\\n",
       "\t Baltimore County PD & 16                  & 14                  & 141                 & 134                 &  583                &  652                &  823                & 1193                &  20                 &  18                 & 1563               \\\\\n",
       "\\end{tabular}\n"
      ],
      "text/markdown": [
       "\n",
       "agency | hom16 | hom15 | rap16 | rap15 | rob16 | rob15 | agg16 | agg15 | non16 | non15 | vc16 | \n",
       "|---|---|---|---|---|---|\n",
       "| Albuquerque PD      | 34                  | 25                  | 156                 | 199                 |  753                |  861                | 1601                | 1608                | 125                 |  NA                 | 2544                | \n",
       "| Arlington PD        | 13                  |  4                  | 123                 | 117                 |  245                |  248                |  668                |  600                |  NA                 |  NA                 | 1049                | \n",
       "| Atlanta PD          | 57                  | 45                  |  72                 |  72                 | 1005                | 1003                | 1028                | 1064                | 161                 | 161                 | 2162                | \n",
       "| Aurora PD           | 10                  |  7                  | 127                 | 149                 |  287                |  205                |  390                |  317                |  18                 |  15                 |  814                | \n",
       "| Austin PD           | 12                  |  9                  | 328                 | 387                 |  516                |  446                | 1114                |  942                |  NA                 |  NA                 | 1970                | \n",
       "| Baltimore County PD | 16                  | 14                  | 141                 | 134                 |  583                |  652                |  823                | 1193                |  20                 |  18                 | 1563                | \n",
       "\n",
       "\n"
      ],
      "text/plain": [
       "  agency              hom16 hom15 rap16 rap15 rob16 rob15 agg16 agg15 non16\n",
       "1 Albuquerque PD      34    25    156   199    753   861  1601  1608  125  \n",
       "2 Arlington PD        13     4    123   117    245   248   668   600   NA  \n",
       "3 Atlanta PD          57    45     72    72   1005  1003  1028  1064  161  \n",
       "4 Aurora PD           10     7    127   149    287   205   390   317   18  \n",
       "5 Austin PD           12     9    328   387    516   446  1114   942   NA  \n",
       "6 Baltimore County PD 16    14    141   134    583   652   823  1193   20  \n",
       "  non15 vc16\n",
       "1  NA   2544\n",
       "2  NA   1049\n",
       "3 161   2162\n",
       "4  15    814\n",
       "5  NA   1970\n",
       "6  18   1563"
      ]
     },
     "metadata": {},
     "output_type": "display_data"
    }
   ],
   "source": [
    "# your one line here\n",
    "head(chiefs)"
   ]
  },
  {
   "cell_type": "markdown",
   "metadata": {},
   "source": [
    "Now, do the same thing, but add a column for 2015 calling it `vc15` and have a look again."
   ]
  },
  {
   "cell_type": "code",
   "execution_count": null,
   "metadata": {},
   "outputs": [],
   "source": [
    "# your code here\n",
    "\n",
    "vc15 = sum(chiefs$hom15) + sum(chiefs$rap15, na.rm=T) + sum(chiefs$rob15, na.rm=T) + sum(chiefs$agg15, na.rm=T)\n",
    "vc15\n",
    "\n",
    "chiefs <- mutate(chiefs,vc15)\n",
    "head(chiefs)\n"
   ]
  },
  {
   "cell_type": "code",
   "execution_count": 15,
   "metadata": {},
   "outputs": [
    {
     "data": {
      "text/html": [
       "<table>\n",
       "<thead><tr><th scope=col>agency</th><th scope=col>hom16</th><th scope=col>hom15</th><th scope=col>rap16</th><th scope=col>rap15</th><th scope=col>rob16</th><th scope=col>rob15</th><th scope=col>agg16</th><th scope=col>agg15</th><th scope=col>non16</th><th scope=col>non15</th><th scope=col>vc16</th><th scope=col>vc15</th></tr></thead>\n",
       "<tbody>\n",
       "\t<tr><td>Albuquerque PD     </td><td>34                 </td><td>25                 </td><td>156                </td><td>199                </td><td> 753               </td><td> 861               </td><td>1601               </td><td>1608               </td><td>125                </td><td> NA                </td><td>2544               </td><td>2693               </td></tr>\n",
       "\t<tr><td>Arlington PD       </td><td>13                 </td><td> 4                 </td><td>123                </td><td>117                </td><td> 245               </td><td> 248               </td><td> 668               </td><td> 600               </td><td> NA                </td><td> NA                </td><td>1049               </td><td> 969               </td></tr>\n",
       "\t<tr><td>Atlanta PD         </td><td>57                 </td><td>45                 </td><td> 72                </td><td> 72                </td><td>1005               </td><td>1003               </td><td>1028               </td><td>1064               </td><td>161                </td><td>161                </td><td>2162               </td><td>2184               </td></tr>\n",
       "\t<tr><td>Aurora PD          </td><td>10                 </td><td> 7                 </td><td>127                </td><td>149                </td><td> 287               </td><td> 205               </td><td> 390               </td><td> 317               </td><td> 18                </td><td> 15                </td><td> 814               </td><td> 678               </td></tr>\n",
       "\t<tr><td>Austin PD          </td><td>12                 </td><td> 9                 </td><td>328                </td><td>387                </td><td> 516               </td><td> 446               </td><td>1114               </td><td> 942               </td><td> NA                </td><td> NA                </td><td>1970               </td><td>1784               </td></tr>\n",
       "\t<tr><td>Baltimore County PD</td><td>16                 </td><td>14                 </td><td>141                </td><td>134                </td><td> 583               </td><td> 652               </td><td> 823               </td><td>1193               </td><td> 20                </td><td> 18                </td><td>1563               </td><td>1993               </td></tr>\n",
       "</tbody>\n",
       "</table>\n"
      ],
      "text/latex": [
       "\\begin{tabular}{r|lllllllllllll}\n",
       " agency & hom16 & hom15 & rap16 & rap15 & rob16 & rob15 & agg16 & agg15 & non16 & non15 & vc16 & vc15\\\\\n",
       "\\hline\n",
       "\t Albuquerque PD      & 34                  & 25                  & 156                 & 199                 &  753                &  861                & 1601                & 1608                & 125                 &  NA                 & 2544                & 2693               \\\\\n",
       "\t Arlington PD        & 13                  &  4                  & 123                 & 117                 &  245                &  248                &  668                &  600                &  NA                 &  NA                 & 1049                &  969               \\\\\n",
       "\t Atlanta PD          & 57                  & 45                  &  72                 &  72                 & 1005                & 1003                & 1028                & 1064                & 161                 & 161                 & 2162                & 2184               \\\\\n",
       "\t Aurora PD           & 10                  &  7                  & 127                 & 149                 &  287                &  205                &  390                &  317                &  18                 &  15                 &  814                &  678               \\\\\n",
       "\t Austin PD           & 12                  &  9                  & 328                 & 387                 &  516                &  446                & 1114                &  942                &  NA                 &  NA                 & 1970                & 1784               \\\\\n",
       "\t Baltimore County PD & 16                  & 14                  & 141                 & 134                 &  583                &  652                &  823                & 1193                &  20                 &  18                 & 1563                & 1993               \\\\\n",
       "\\end{tabular}\n"
      ],
      "text/markdown": [
       "\n",
       "agency | hom16 | hom15 | rap16 | rap15 | rob16 | rob15 | agg16 | agg15 | non16 | non15 | vc16 | vc15 | \n",
       "|---|---|---|---|---|---|\n",
       "| Albuquerque PD      | 34                  | 25                  | 156                 | 199                 |  753                |  861                | 1601                | 1608                | 125                 |  NA                 | 2544                | 2693                | \n",
       "| Arlington PD        | 13                  |  4                  | 123                 | 117                 |  245                |  248                |  668                |  600                |  NA                 |  NA                 | 1049                |  969                | \n",
       "| Atlanta PD          | 57                  | 45                  |  72                 |  72                 | 1005                | 1003                | 1028                | 1064                | 161                 | 161                 | 2162                | 2184                | \n",
       "| Aurora PD           | 10                  |  7                  | 127                 | 149                 |  287                |  205                |  390                |  317                |  18                 |  15                 |  814                |  678                | \n",
       "| Austin PD           | 12                  |  9                  | 328                 | 387                 |  516                |  446                | 1114                |  942                |  NA                 |  NA                 | 1970                | 1784                | \n",
       "| Baltimore County PD | 16                  | 14                  | 141                 | 134                 |  583                |  652                |  823                | 1193                |  20                 |  18                 | 1563                | 1993                | \n",
       "\n",
       "\n"
      ],
      "text/plain": [
       "  agency              hom16 hom15 rap16 rap15 rob16 rob15 agg16 agg15 non16\n",
       "1 Albuquerque PD      34    25    156   199    753   861  1601  1608  125  \n",
       "2 Arlington PD        13     4    123   117    245   248   668   600   NA  \n",
       "3 Atlanta PD          57    45     72    72   1005  1003  1028  1064  161  \n",
       "4 Aurora PD           10     7    127   149    287   205   390   317   18  \n",
       "5 Austin PD           12     9    328   387    516   446  1114   942   NA  \n",
       "6 Baltimore County PD 16    14    141   134    583   652   823  1193   20  \n",
       "  non15 vc16 vc15\n",
       "1  NA   2544 2693\n",
       "2  NA   1049  969\n",
       "3 161   2162 2184\n",
       "4  15    814  678\n",
       "5  NA   1970 1784\n",
       "6  18   1563 1993"
      ]
     },
     "metadata": {},
     "output_type": "display_data"
    }
   ],
   "source": [
    "# your code here\n",
    "chiefs <- mutate(chiefs, vc15 = chiefs$hom15 + chiefs$rap15 + chiefs$rob15 + chiefs$agg15)\n",
    "head(chiefs)"
   ]
  },
  {
   "cell_type": "markdown",
   "metadata": {},
   "source": [
    "We can now look at the change for each city. This is defined as the difference between 2016 and 2016 as a fraction of 2015's total. As with simple addition of columns, we can express more complicated arithmetic expressions in one go. Write out your one line to compute the relative change."
   ]
  },
  {
   "cell_type": "code",
   "execution_count": 17,
   "metadata": {},
   "outputs": [
    {
     "data": {
      "text/html": [
       "<ol class=list-inline>\n",
       "\t<li>-0.0553286297809135</li>\n",
       "\t<li>0.0825593395252838</li>\n",
       "\t<li>-0.0100732600732601</li>\n",
       "\t<li>0.200589970501475</li>\n",
       "\t<li>0.104260089686099</li>\n",
       "\t<li>-0.215755143000502</li>\n",
       "\t<li>0.082411624376491</li>\n",
       "\t<li>-0.0483648088438508</li>\n",
       "\t<li>0.218111753371869</li>\n",
       "\t<li>0.238544848653152</li>\n",
       "\t<li>-0.01985559566787</li>\n",
       "\t<li>-0.0783005617977528</li>\n",
       "\t<li>-0.140008485362749</li>\n",
       "\t<li>0.0994933210502073</li>\n",
       "\t<li>0.0137614678899083</li>\n",
       "\t<li>0.128333333333333</li>\n",
       "\t<li>0.15358361774744</li>\n",
       "\t<li>0.0207058823529412</li>\n",
       "\t<li>0.186788154897494</li>\n",
       "\t<li>-0.0249017038007864</li>\n",
       "\t<li>0.13656862745098</li>\n",
       "\t<li>0.15049036185323</li>\n",
       "\t<li>-0.0163331972233565</li>\n",
       "\t<li>0.199778842609657</li>\n",
       "\t<li>0.0814132104454685</li>\n",
       "\t<li>0.0913854214825089</li>\n",
       "\t<li>0.18471766388959</li>\n",
       "\t<li>0.134140435835351</li>\n",
       "\t<li>0.0775540641312453</li>\n",
       "\t<li>-0.0942100098135427</li>\n",
       "\t<li>-0.0723938223938224</li>\n",
       "\t<li>-0.0831752055660974</li>\n",
       "\t<li>0.00967519004837595</li>\n",
       "\t<li>-0.122767857142857</li>\n",
       "\t<li>0.0610665137614679</li>\n",
       "\t<li>0.0559006211180124</li>\n",
       "\t<li>0.211259079903148</li>\n",
       "\t<li>0.0152398027790229</li>\n",
       "\t<li>-0.128803963198868</li>\n",
       "\t<li>-0.0782581255916693</li>\n",
       "\t<li>0.0982961992136304</li>\n",
       "\t<li>-0.0845070422535211</li>\n",
       "\t<li>-0.0606299212598425</li>\n",
       "\t<li>-0.035826359832636</li>\n",
       "\t<li>&lt;NA&gt;</li>\n",
       "\t<li>0.0885714285714286</li>\n",
       "\t<li>0.0718954248366013</li>\n",
       "\t<li>-0.104622871046229</li>\n",
       "\t<li>-0.0633187772925764</li>\n",
       "\t<li>0.19751166407465</li>\n",
       "\t<li>0.276154806491885</li>\n",
       "\t<li>-0.0706502636203866</li>\n",
       "\t<li>-0.13441483198146</li>\n",
       "\t<li>0.128823529411765</li>\n",
       "\t<li>0.0323110624315444</li>\n",
       "\t<li>-0.0106913756236636</li>\n",
       "\t<li>-0.131132917038359</li>\n",
       "\t<li>0.165298944900352</li>\n",
       "\t<li>0.122290161200667</li>\n",
       "\t<li>0.10233918128655</li>\n",
       "\t<li>-0.0419938545578696</li>\n",
       "\t<li>0.161527165932452</li>\n",
       "</ol>\n"
      ],
      "text/latex": [
       "\\begin{enumerate*}\n",
       "\\item -0.0553286297809135\n",
       "\\item 0.0825593395252838\n",
       "\\item -0.0100732600732601\n",
       "\\item 0.200589970501475\n",
       "\\item 0.104260089686099\n",
       "\\item -0.215755143000502\n",
       "\\item 0.082411624376491\n",
       "\\item -0.0483648088438508\n",
       "\\item 0.218111753371869\n",
       "\\item 0.238544848653152\n",
       "\\item -0.01985559566787\n",
       "\\item -0.0783005617977528\n",
       "\\item -0.140008485362749\n",
       "\\item 0.0994933210502073\n",
       "\\item 0.0137614678899083\n",
       "\\item 0.128333333333333\n",
       "\\item 0.15358361774744\n",
       "\\item 0.0207058823529412\n",
       "\\item 0.186788154897494\n",
       "\\item -0.0249017038007864\n",
       "\\item 0.13656862745098\n",
       "\\item 0.15049036185323\n",
       "\\item -0.0163331972233565\n",
       "\\item 0.199778842609657\n",
       "\\item 0.0814132104454685\n",
       "\\item 0.0913854214825089\n",
       "\\item 0.18471766388959\n",
       "\\item 0.134140435835351\n",
       "\\item 0.0775540641312453\n",
       "\\item -0.0942100098135427\n",
       "\\item -0.0723938223938224\n",
       "\\item -0.0831752055660974\n",
       "\\item 0.00967519004837595\n",
       "\\item -0.122767857142857\n",
       "\\item 0.0610665137614679\n",
       "\\item 0.0559006211180124\n",
       "\\item 0.211259079903148\n",
       "\\item 0.0152398027790229\n",
       "\\item -0.128803963198868\n",
       "\\item -0.0782581255916693\n",
       "\\item 0.0982961992136304\n",
       "\\item -0.0845070422535211\n",
       "\\item -0.0606299212598425\n",
       "\\item -0.035826359832636\n",
       "\\item <NA>\n",
       "\\item 0.0885714285714286\n",
       "\\item 0.0718954248366013\n",
       "\\item -0.104622871046229\n",
       "\\item -0.0633187772925764\n",
       "\\item 0.19751166407465\n",
       "\\item 0.276154806491885\n",
       "\\item -0.0706502636203866\n",
       "\\item -0.13441483198146\n",
       "\\item 0.128823529411765\n",
       "\\item 0.0323110624315444\n",
       "\\item -0.0106913756236636\n",
       "\\item -0.131132917038359\n",
       "\\item 0.165298944900352\n",
       "\\item 0.122290161200667\n",
       "\\item 0.10233918128655\n",
       "\\item -0.0419938545578696\n",
       "\\item 0.161527165932452\n",
       "\\end{enumerate*}\n"
      ],
      "text/markdown": [
       "1. -0.0553286297809135\n",
       "2. 0.0825593395252838\n",
       "3. -0.0100732600732601\n",
       "4. 0.200589970501475\n",
       "5. 0.104260089686099\n",
       "6. -0.215755143000502\n",
       "7. 0.082411624376491\n",
       "8. -0.0483648088438508\n",
       "9. 0.218111753371869\n",
       "10. 0.238544848653152\n",
       "11. -0.01985559566787\n",
       "12. -0.0783005617977528\n",
       "13. -0.140008485362749\n",
       "14. 0.0994933210502073\n",
       "15. 0.0137614678899083\n",
       "16. 0.128333333333333\n",
       "17. 0.15358361774744\n",
       "18. 0.0207058823529412\n",
       "19. 0.186788154897494\n",
       "20. -0.0249017038007864\n",
       "21. 0.13656862745098\n",
       "22. 0.15049036185323\n",
       "23. -0.0163331972233565\n",
       "24. 0.199778842609657\n",
       "25. 0.0814132104454685\n",
       "26. 0.0913854214825089\n",
       "27. 0.18471766388959\n",
       "28. 0.134140435835351\n",
       "29. 0.0775540641312453\n",
       "30. -0.0942100098135427\n",
       "31. -0.0723938223938224\n",
       "32. -0.0831752055660974\n",
       "33. 0.00967519004837595\n",
       "34. -0.122767857142857\n",
       "35. 0.0610665137614679\n",
       "36. 0.0559006211180124\n",
       "37. 0.211259079903148\n",
       "38. 0.0152398027790229\n",
       "39. -0.128803963198868\n",
       "40. -0.0782581255916693\n",
       "41. 0.0982961992136304\n",
       "42. -0.0845070422535211\n",
       "43. -0.0606299212598425\n",
       "44. -0.035826359832636\n",
       "45. &lt;NA&gt;\n",
       "46. 0.0885714285714286\n",
       "47. 0.0718954248366013\n",
       "48. -0.104622871046229\n",
       "49. -0.0633187772925764\n",
       "50. 0.19751166407465\n",
       "51. 0.276154806491885\n",
       "52. -0.0706502636203866\n",
       "53. -0.13441483198146\n",
       "54. 0.128823529411765\n",
       "55. 0.0323110624315444\n",
       "56. -0.0106913756236636\n",
       "57. -0.131132917038359\n",
       "58. 0.165298944900352\n",
       "59. 0.122290161200667\n",
       "60. 0.10233918128655\n",
       "61. -0.0419938545578696\n",
       "62. 0.161527165932452\n",
       "\n",
       "\n"
      ],
      "text/plain": [
       " [1] -0.05532863  0.08255934 -0.01007326  0.20058997  0.10426009 -0.21575514\n",
       " [7]  0.08241162 -0.04836481  0.21811175  0.23854485 -0.01985560 -0.07830056\n",
       "[13] -0.14000849  0.09949332  0.01376147  0.12833333  0.15358362  0.02070588\n",
       "[19]  0.18678815 -0.02490170  0.13656863  0.15049036 -0.01633320  0.19977884\n",
       "[25]  0.08141321  0.09138542  0.18471766  0.13414044  0.07755406 -0.09421001\n",
       "[31] -0.07239382 -0.08317521  0.00967519 -0.12276786  0.06106651  0.05590062\n",
       "[37]  0.21125908  0.01523980 -0.12880396 -0.07825813  0.09829620 -0.08450704\n",
       "[43] -0.06062992 -0.03582636          NA  0.08857143  0.07189542 -0.10462287\n",
       "[49] -0.06331878  0.19751166  0.27615481 -0.07065026 -0.13441483  0.12882353\n",
       "[55]  0.03231106 -0.01069138 -0.13113292  0.16529894  0.12229016  0.10233918\n",
       "[61] -0.04199385  0.16152717"
      ]
     },
     "metadata": {},
     "output_type": "display_data"
    }
   ],
   "source": [
    "# your one line here\n",
    "(chiefs$vc16 - chiefs$vc15) / chiefs$vc15"
   ]
  },
  {
   "cell_type": "markdown",
   "metadata": {},
   "source": [
    "And store the change in a column called `change` and have a brief look."
   ]
  },
  {
   "cell_type": "code",
   "execution_count": 18,
   "metadata": {},
   "outputs": [
    {
     "data": {
      "text/html": [
       "<table>\n",
       "<thead><tr><th scope=col>agency</th><th scope=col>hom16</th><th scope=col>hom15</th><th scope=col>rap16</th><th scope=col>rap15</th><th scope=col>rob16</th><th scope=col>rob15</th><th scope=col>agg16</th><th scope=col>agg15</th><th scope=col>non16</th><th scope=col>non15</th><th scope=col>vc16</th><th scope=col>vc15</th><th scope=col>change</th></tr></thead>\n",
       "<tbody>\n",
       "\t<tr><td>Albuquerque PD     </td><td>34                 </td><td>25                 </td><td>156                </td><td>199                </td><td> 753               </td><td> 861               </td><td>1601               </td><td>1608               </td><td>125                </td><td> NA                </td><td>2544               </td><td>2693               </td><td>-0.05532863        </td></tr>\n",
       "\t<tr><td>Arlington PD       </td><td>13                 </td><td> 4                 </td><td>123                </td><td>117                </td><td> 245               </td><td> 248               </td><td> 668               </td><td> 600               </td><td> NA                </td><td> NA                </td><td>1049               </td><td> 969               </td><td> 0.08255934        </td></tr>\n",
       "\t<tr><td>Atlanta PD         </td><td>57                 </td><td>45                 </td><td> 72                </td><td> 72                </td><td>1005               </td><td>1003               </td><td>1028               </td><td>1064               </td><td>161                </td><td>161                </td><td>2162               </td><td>2184               </td><td>-0.01007326        </td></tr>\n",
       "\t<tr><td>Aurora PD          </td><td>10                 </td><td> 7                 </td><td>127                </td><td>149                </td><td> 287               </td><td> 205               </td><td> 390               </td><td> 317               </td><td> 18                </td><td> 15                </td><td> 814               </td><td> 678               </td><td> 0.20058997        </td></tr>\n",
       "\t<tr><td>Austin PD          </td><td>12                 </td><td> 9                 </td><td>328                </td><td>387                </td><td> 516               </td><td> 446               </td><td>1114               </td><td> 942               </td><td> NA                </td><td> NA                </td><td>1970               </td><td>1784               </td><td> 0.10426009        </td></tr>\n",
       "\t<tr><td>Baltimore County PD</td><td>16                 </td><td>14                 </td><td>141                </td><td>134                </td><td> 583               </td><td> 652               </td><td> 823               </td><td>1193               </td><td> 20                </td><td> 18                </td><td>1563               </td><td>1993               </td><td>-0.21575514        </td></tr>\n",
       "</tbody>\n",
       "</table>\n"
      ],
      "text/latex": [
       "\\begin{tabular}{r|llllllllllllll}\n",
       " agency & hom16 & hom15 & rap16 & rap15 & rob16 & rob15 & agg16 & agg15 & non16 & non15 & vc16 & vc15 & change\\\\\n",
       "\\hline\n",
       "\t Albuquerque PD      & 34                  & 25                  & 156                 & 199                 &  753                &  861                & 1601                & 1608                & 125                 &  NA                 & 2544                & 2693                & -0.05532863        \\\\\n",
       "\t Arlington PD        & 13                  &  4                  & 123                 & 117                 &  245                &  248                &  668                &  600                &  NA                 &  NA                 & 1049                &  969                &  0.08255934        \\\\\n",
       "\t Atlanta PD          & 57                  & 45                  &  72                 &  72                 & 1005                & 1003                & 1028                & 1064                & 161                 & 161                 & 2162                & 2184                & -0.01007326        \\\\\n",
       "\t Aurora PD           & 10                  &  7                  & 127                 & 149                 &  287                &  205                &  390                &  317                &  18                 &  15                 &  814                &  678                &  0.20058997        \\\\\n",
       "\t Austin PD           & 12                  &  9                  & 328                 & 387                 &  516                &  446                & 1114                &  942                &  NA                 &  NA                 & 1970                & 1784                &  0.10426009        \\\\\n",
       "\t Baltimore County PD & 16                  & 14                  & 141                 & 134                 &  583                &  652                &  823                & 1193                &  20                 &  18                 & 1563                & 1993                & -0.21575514        \\\\\n",
       "\\end{tabular}\n"
      ],
      "text/markdown": [
       "\n",
       "agency | hom16 | hom15 | rap16 | rap15 | rob16 | rob15 | agg16 | agg15 | non16 | non15 | vc16 | vc15 | change | \n",
       "|---|---|---|---|---|---|\n",
       "| Albuquerque PD      | 34                  | 25                  | 156                 | 199                 |  753                |  861                | 1601                | 1608                | 125                 |  NA                 | 2544                | 2693                | -0.05532863         | \n",
       "| Arlington PD        | 13                  |  4                  | 123                 | 117                 |  245                |  248                |  668                |  600                |  NA                 |  NA                 | 1049                |  969                |  0.08255934         | \n",
       "| Atlanta PD          | 57                  | 45                  |  72                 |  72                 | 1005                | 1003                | 1028                | 1064                | 161                 | 161                 | 2162                | 2184                | -0.01007326         | \n",
       "| Aurora PD           | 10                  |  7                  | 127                 | 149                 |  287                |  205                |  390                |  317                |  18                 |  15                 |  814                |  678                |  0.20058997         | \n",
       "| Austin PD           | 12                  |  9                  | 328                 | 387                 |  516                |  446                | 1114                |  942                |  NA                 |  NA                 | 1970                | 1784                |  0.10426009         | \n",
       "| Baltimore County PD | 16                  | 14                  | 141                 | 134                 |  583                |  652                |  823                | 1193                |  20                 |  18                 | 1563                | 1993                | -0.21575514         | \n",
       "\n",
       "\n"
      ],
      "text/plain": [
       "  agency              hom16 hom15 rap16 rap15 rob16 rob15 agg16 agg15 non16\n",
       "1 Albuquerque PD      34    25    156   199    753   861  1601  1608  125  \n",
       "2 Arlington PD        13     4    123   117    245   248   668   600   NA  \n",
       "3 Atlanta PD          57    45     72    72   1005  1003  1028  1064  161  \n",
       "4 Aurora PD           10     7    127   149    287   205   390   317   18  \n",
       "5 Austin PD           12     9    328   387    516   446  1114   942   NA  \n",
       "6 Baltimore County PD 16    14    141   134    583   652   823  1193   20  \n",
       "  non15 vc16 vc15 change     \n",
       "1  NA   2544 2693 -0.05532863\n",
       "2  NA   1049  969  0.08255934\n",
       "3 161   2162 2184 -0.01007326\n",
       "4  15    814  678  0.20058997\n",
       "5  NA   1970 1784  0.10426009\n",
       "6  18   1563 1993 -0.21575514"
      ]
     },
     "metadata": {},
     "output_type": "display_data"
    }
   ],
   "source": [
    "# your code here\n",
    "chiefs <- mutate(chiefs, change = (chiefs$vc16 - chiefs$vc15) / chiefs$vc15)\n",
    "head(chiefs)"
   ]
  },
  {
   "cell_type": "markdown",
   "metadata": {},
   "source": [
    "Compute the so-called 6 number summary (or 5 number if you learned that plus a mean) of the per-city changes in violent crimes using the command `summary()`. "
   ]
  },
  {
   "cell_type": "code",
   "execution_count": 19,
   "metadata": {},
   "outputs": [
    {
     "data": {
      "text/plain": [
       "    Min.  1st Qu.   Median     Mean  3rd Qu.     Max.     NA's \n",
       "-0.21576 -0.06063  0.05590  0.04028  0.12882  0.27615        1 "
      ]
     },
     "metadata": {},
     "output_type": "display_data"
    }
   ],
   "source": [
    "# your one line here\n",
    "summary(chiefs$change)"
   ]
  },
  {
   "cell_type": "markdown",
   "metadata": {},
   "source": [
    "We might reasonably ask about which cities are on the rise and which have had falling crime numbers. We can use a \"logical expression\" for this. It will return a set of boolean data types, TRUE and FALSE. Compute the logical expression, returning TRUE and FALSE values whether crime is rising or falling between 2015 and 2016 in each city."
   ]
  },
  {
   "cell_type": "code",
   "execution_count": 20,
   "metadata": {},
   "outputs": [
    {
     "data": {
      "text/html": [
       "<ol class=list-inline>\n",
       "\t<li>FALSE</li>\n",
       "\t<li>TRUE</li>\n",
       "\t<li>FALSE</li>\n",
       "\t<li>TRUE</li>\n",
       "\t<li>TRUE</li>\n",
       "\t<li>FALSE</li>\n",
       "\t<li>TRUE</li>\n",
       "\t<li>FALSE</li>\n",
       "\t<li>TRUE</li>\n",
       "\t<li>TRUE</li>\n",
       "\t<li>FALSE</li>\n",
       "\t<li>FALSE</li>\n",
       "\t<li>FALSE</li>\n",
       "\t<li>TRUE</li>\n",
       "\t<li>TRUE</li>\n",
       "\t<li>TRUE</li>\n",
       "\t<li>TRUE</li>\n",
       "\t<li>TRUE</li>\n",
       "\t<li>TRUE</li>\n",
       "\t<li>FALSE</li>\n",
       "\t<li>TRUE</li>\n",
       "\t<li>TRUE</li>\n",
       "\t<li>FALSE</li>\n",
       "\t<li>TRUE</li>\n",
       "\t<li>TRUE</li>\n",
       "\t<li>TRUE</li>\n",
       "\t<li>TRUE</li>\n",
       "\t<li>TRUE</li>\n",
       "\t<li>TRUE</li>\n",
       "\t<li>FALSE</li>\n",
       "\t<li>FALSE</li>\n",
       "\t<li>FALSE</li>\n",
       "\t<li>TRUE</li>\n",
       "\t<li>FALSE</li>\n",
       "\t<li>TRUE</li>\n",
       "\t<li>TRUE</li>\n",
       "\t<li>TRUE</li>\n",
       "\t<li>TRUE</li>\n",
       "\t<li>FALSE</li>\n",
       "\t<li>FALSE</li>\n",
       "\t<li>TRUE</li>\n",
       "\t<li>FALSE</li>\n",
       "\t<li>FALSE</li>\n",
       "\t<li>FALSE</li>\n",
       "\t<li>&lt;NA&gt;</li>\n",
       "\t<li>TRUE</li>\n",
       "\t<li>TRUE</li>\n",
       "\t<li>FALSE</li>\n",
       "\t<li>FALSE</li>\n",
       "\t<li>TRUE</li>\n",
       "\t<li>TRUE</li>\n",
       "\t<li>FALSE</li>\n",
       "\t<li>FALSE</li>\n",
       "\t<li>TRUE</li>\n",
       "\t<li>TRUE</li>\n",
       "\t<li>FALSE</li>\n",
       "\t<li>FALSE</li>\n",
       "\t<li>TRUE</li>\n",
       "\t<li>TRUE</li>\n",
       "\t<li>TRUE</li>\n",
       "\t<li>FALSE</li>\n",
       "\t<li>TRUE</li>\n",
       "</ol>\n"
      ],
      "text/latex": [
       "\\begin{enumerate*}\n",
       "\\item FALSE\n",
       "\\item TRUE\n",
       "\\item FALSE\n",
       "\\item TRUE\n",
       "\\item TRUE\n",
       "\\item FALSE\n",
       "\\item TRUE\n",
       "\\item FALSE\n",
       "\\item TRUE\n",
       "\\item TRUE\n",
       "\\item FALSE\n",
       "\\item FALSE\n",
       "\\item FALSE\n",
       "\\item TRUE\n",
       "\\item TRUE\n",
       "\\item TRUE\n",
       "\\item TRUE\n",
       "\\item TRUE\n",
       "\\item TRUE\n",
       "\\item FALSE\n",
       "\\item TRUE\n",
       "\\item TRUE\n",
       "\\item FALSE\n",
       "\\item TRUE\n",
       "\\item TRUE\n",
       "\\item TRUE\n",
       "\\item TRUE\n",
       "\\item TRUE\n",
       "\\item TRUE\n",
       "\\item FALSE\n",
       "\\item FALSE\n",
       "\\item FALSE\n",
       "\\item TRUE\n",
       "\\item FALSE\n",
       "\\item TRUE\n",
       "\\item TRUE\n",
       "\\item TRUE\n",
       "\\item TRUE\n",
       "\\item FALSE\n",
       "\\item FALSE\n",
       "\\item TRUE\n",
       "\\item FALSE\n",
       "\\item FALSE\n",
       "\\item FALSE\n",
       "\\item <NA>\n",
       "\\item TRUE\n",
       "\\item TRUE\n",
       "\\item FALSE\n",
       "\\item FALSE\n",
       "\\item TRUE\n",
       "\\item TRUE\n",
       "\\item FALSE\n",
       "\\item FALSE\n",
       "\\item TRUE\n",
       "\\item TRUE\n",
       "\\item FALSE\n",
       "\\item FALSE\n",
       "\\item TRUE\n",
       "\\item TRUE\n",
       "\\item TRUE\n",
       "\\item FALSE\n",
       "\\item TRUE\n",
       "\\end{enumerate*}\n"
      ],
      "text/markdown": [
       "1. FALSE\n",
       "2. TRUE\n",
       "3. FALSE\n",
       "4. TRUE\n",
       "5. TRUE\n",
       "6. FALSE\n",
       "7. TRUE\n",
       "8. FALSE\n",
       "9. TRUE\n",
       "10. TRUE\n",
       "11. FALSE\n",
       "12. FALSE\n",
       "13. FALSE\n",
       "14. TRUE\n",
       "15. TRUE\n",
       "16. TRUE\n",
       "17. TRUE\n",
       "18. TRUE\n",
       "19. TRUE\n",
       "20. FALSE\n",
       "21. TRUE\n",
       "22. TRUE\n",
       "23. FALSE\n",
       "24. TRUE\n",
       "25. TRUE\n",
       "26. TRUE\n",
       "27. TRUE\n",
       "28. TRUE\n",
       "29. TRUE\n",
       "30. FALSE\n",
       "31. FALSE\n",
       "32. FALSE\n",
       "33. TRUE\n",
       "34. FALSE\n",
       "35. TRUE\n",
       "36. TRUE\n",
       "37. TRUE\n",
       "38. TRUE\n",
       "39. FALSE\n",
       "40. FALSE\n",
       "41. TRUE\n",
       "42. FALSE\n",
       "43. FALSE\n",
       "44. FALSE\n",
       "45. &lt;NA&gt;\n",
       "46. TRUE\n",
       "47. TRUE\n",
       "48. FALSE\n",
       "49. FALSE\n",
       "50. TRUE\n",
       "51. TRUE\n",
       "52. FALSE\n",
       "53. FALSE\n",
       "54. TRUE\n",
       "55. TRUE\n",
       "56. FALSE\n",
       "57. FALSE\n",
       "58. TRUE\n",
       "59. TRUE\n",
       "60. TRUE\n",
       "61. FALSE\n",
       "62. TRUE\n",
       "\n",
       "\n"
      ],
      "text/plain": [
       " [1] FALSE  TRUE FALSE  TRUE  TRUE FALSE  TRUE FALSE  TRUE  TRUE FALSE FALSE\n",
       "[13] FALSE  TRUE  TRUE  TRUE  TRUE  TRUE  TRUE FALSE  TRUE  TRUE FALSE  TRUE\n",
       "[25]  TRUE  TRUE  TRUE  TRUE  TRUE FALSE FALSE FALSE  TRUE FALSE  TRUE  TRUE\n",
       "[37]  TRUE  TRUE FALSE FALSE  TRUE FALSE FALSE FALSE    NA  TRUE  TRUE FALSE\n",
       "[49] FALSE  TRUE  TRUE FALSE FALSE  TRUE  TRUE FALSE FALSE  TRUE  TRUE  TRUE\n",
       "[61] FALSE  TRUE"
      ]
     },
     "metadata": {},
     "output_type": "display_data"
    }
   ],
   "source": [
    "# your one line here\n",
    "chiefs$change > 0"
   ]
  },
  {
   "cell_type": "markdown",
   "metadata": {},
   "source": [
    "Notice we have an NA or missing value. One city is missing data. We can ask which crime statitics are NA by simply asking..."
   ]
  },
  {
   "cell_type": "code",
   "execution_count": 21,
   "metadata": {},
   "outputs": [
    {
     "data": {
      "text/html": [
       "<ol class=list-inline>\n",
       "\t<li>FALSE</li>\n",
       "\t<li>FALSE</li>\n",
       "\t<li>FALSE</li>\n",
       "\t<li>FALSE</li>\n",
       "\t<li>FALSE</li>\n",
       "\t<li>FALSE</li>\n",
       "\t<li>FALSE</li>\n",
       "\t<li>FALSE</li>\n",
       "\t<li>FALSE</li>\n",
       "\t<li>FALSE</li>\n",
       "\t<li>FALSE</li>\n",
       "\t<li>FALSE</li>\n",
       "\t<li>FALSE</li>\n",
       "\t<li>FALSE</li>\n",
       "\t<li>FALSE</li>\n",
       "\t<li>FALSE</li>\n",
       "\t<li>FALSE</li>\n",
       "\t<li>FALSE</li>\n",
       "\t<li>FALSE</li>\n",
       "\t<li>FALSE</li>\n",
       "\t<li>FALSE</li>\n",
       "\t<li>FALSE</li>\n",
       "\t<li>FALSE</li>\n",
       "\t<li>FALSE</li>\n",
       "\t<li>FALSE</li>\n",
       "\t<li>FALSE</li>\n",
       "\t<li>FALSE</li>\n",
       "\t<li>FALSE</li>\n",
       "\t<li>FALSE</li>\n",
       "\t<li>FALSE</li>\n",
       "\t<li>FALSE</li>\n",
       "\t<li>FALSE</li>\n",
       "\t<li>FALSE</li>\n",
       "\t<li>FALSE</li>\n",
       "\t<li>FALSE</li>\n",
       "\t<li>FALSE</li>\n",
       "\t<li>FALSE</li>\n",
       "\t<li>FALSE</li>\n",
       "\t<li>FALSE</li>\n",
       "\t<li>FALSE</li>\n",
       "\t<li>FALSE</li>\n",
       "\t<li>FALSE</li>\n",
       "\t<li>FALSE</li>\n",
       "\t<li>FALSE</li>\n",
       "\t<li>TRUE</li>\n",
       "\t<li>FALSE</li>\n",
       "\t<li>FALSE</li>\n",
       "\t<li>FALSE</li>\n",
       "\t<li>FALSE</li>\n",
       "\t<li>FALSE</li>\n",
       "\t<li>FALSE</li>\n",
       "\t<li>FALSE</li>\n",
       "\t<li>FALSE</li>\n",
       "\t<li>FALSE</li>\n",
       "\t<li>FALSE</li>\n",
       "\t<li>FALSE</li>\n",
       "\t<li>FALSE</li>\n",
       "\t<li>FALSE</li>\n",
       "\t<li>FALSE</li>\n",
       "\t<li>FALSE</li>\n",
       "\t<li>FALSE</li>\n",
       "\t<li>FALSE</li>\n",
       "</ol>\n"
      ],
      "text/latex": [
       "\\begin{enumerate*}\n",
       "\\item FALSE\n",
       "\\item FALSE\n",
       "\\item FALSE\n",
       "\\item FALSE\n",
       "\\item FALSE\n",
       "\\item FALSE\n",
       "\\item FALSE\n",
       "\\item FALSE\n",
       "\\item FALSE\n",
       "\\item FALSE\n",
       "\\item FALSE\n",
       "\\item FALSE\n",
       "\\item FALSE\n",
       "\\item FALSE\n",
       "\\item FALSE\n",
       "\\item FALSE\n",
       "\\item FALSE\n",
       "\\item FALSE\n",
       "\\item FALSE\n",
       "\\item FALSE\n",
       "\\item FALSE\n",
       "\\item FALSE\n",
       "\\item FALSE\n",
       "\\item FALSE\n",
       "\\item FALSE\n",
       "\\item FALSE\n",
       "\\item FALSE\n",
       "\\item FALSE\n",
       "\\item FALSE\n",
       "\\item FALSE\n",
       "\\item FALSE\n",
       "\\item FALSE\n",
       "\\item FALSE\n",
       "\\item FALSE\n",
       "\\item FALSE\n",
       "\\item FALSE\n",
       "\\item FALSE\n",
       "\\item FALSE\n",
       "\\item FALSE\n",
       "\\item FALSE\n",
       "\\item FALSE\n",
       "\\item FALSE\n",
       "\\item FALSE\n",
       "\\item FALSE\n",
       "\\item TRUE\n",
       "\\item FALSE\n",
       "\\item FALSE\n",
       "\\item FALSE\n",
       "\\item FALSE\n",
       "\\item FALSE\n",
       "\\item FALSE\n",
       "\\item FALSE\n",
       "\\item FALSE\n",
       "\\item FALSE\n",
       "\\item FALSE\n",
       "\\item FALSE\n",
       "\\item FALSE\n",
       "\\item FALSE\n",
       "\\item FALSE\n",
       "\\item FALSE\n",
       "\\item FALSE\n",
       "\\item FALSE\n",
       "\\end{enumerate*}\n"
      ],
      "text/markdown": [
       "1. FALSE\n",
       "2. FALSE\n",
       "3. FALSE\n",
       "4. FALSE\n",
       "5. FALSE\n",
       "6. FALSE\n",
       "7. FALSE\n",
       "8. FALSE\n",
       "9. FALSE\n",
       "10. FALSE\n",
       "11. FALSE\n",
       "12. FALSE\n",
       "13. FALSE\n",
       "14. FALSE\n",
       "15. FALSE\n",
       "16. FALSE\n",
       "17. FALSE\n",
       "18. FALSE\n",
       "19. FALSE\n",
       "20. FALSE\n",
       "21. FALSE\n",
       "22. FALSE\n",
       "23. FALSE\n",
       "24. FALSE\n",
       "25. FALSE\n",
       "26. FALSE\n",
       "27. FALSE\n",
       "28. FALSE\n",
       "29. FALSE\n",
       "30. FALSE\n",
       "31. FALSE\n",
       "32. FALSE\n",
       "33. FALSE\n",
       "34. FALSE\n",
       "35. FALSE\n",
       "36. FALSE\n",
       "37. FALSE\n",
       "38. FALSE\n",
       "39. FALSE\n",
       "40. FALSE\n",
       "41. FALSE\n",
       "42. FALSE\n",
       "43. FALSE\n",
       "44. FALSE\n",
       "45. TRUE\n",
       "46. FALSE\n",
       "47. FALSE\n",
       "48. FALSE\n",
       "49. FALSE\n",
       "50. FALSE\n",
       "51. FALSE\n",
       "52. FALSE\n",
       "53. FALSE\n",
       "54. FALSE\n",
       "55. FALSE\n",
       "56. FALSE\n",
       "57. FALSE\n",
       "58. FALSE\n",
       "59. FALSE\n",
       "60. FALSE\n",
       "61. FALSE\n",
       "62. FALSE\n",
       "\n",
       "\n"
      ],
      "text/plain": [
       " [1] FALSE FALSE FALSE FALSE FALSE FALSE FALSE FALSE FALSE FALSE FALSE FALSE\n",
       "[13] FALSE FALSE FALSE FALSE FALSE FALSE FALSE FALSE FALSE FALSE FALSE FALSE\n",
       "[25] FALSE FALSE FALSE FALSE FALSE FALSE FALSE FALSE FALSE FALSE FALSE FALSE\n",
       "[37] FALSE FALSE FALSE FALSE FALSE FALSE FALSE FALSE  TRUE FALSE FALSE FALSE\n",
       "[49] FALSE FALSE FALSE FALSE FALSE FALSE FALSE FALSE FALSE FALSE FALSE FALSE\n",
       "[61] FALSE FALSE"
      ]
     },
     "metadata": {},
     "output_type": "display_data"
    }
   ],
   "source": [
    "is.na(chiefs$change)"
   ]
  },
  {
   "cell_type": "markdown",
   "metadata": {},
   "source": [
    "Use this vector of logical data (TRUE and FALSE values) to subset the `chiefs` data frame and keep just the row(s) that have a problem. Identify the problem."
   ]
  },
  {
   "cell_type": "code",
   "execution_count": 22,
   "metadata": {},
   "outputs": [
    {
     "data": {
      "text/html": [
       "<table>\n",
       "<thead><tr><th></th><th scope=col>agency</th><th scope=col>hom16</th><th scope=col>hom15</th><th scope=col>rap16</th><th scope=col>rap15</th><th scope=col>rob16</th><th scope=col>rob15</th><th scope=col>agg16</th><th scope=col>agg15</th><th scope=col>non16</th><th scope=col>non15</th><th scope=col>vc16</th><th scope=col>vc15</th><th scope=col>change</th></tr></thead>\n",
       "<tbody>\n",
       "\t<tr><th scope=row>45</th><td>Phoenix PD 4</td><td>78          </td><td>52          </td><td>NA          </td><td>509         </td><td>NA          </td><td>1502        </td><td>NA          </td><td>2450        </td><td>NA          </td><td>NA          </td><td>NA          </td><td>4513        </td><td>NA          </td></tr>\n",
       "</tbody>\n",
       "</table>\n"
      ],
      "text/latex": [
       "\\begin{tabular}{r|llllllllllllll}\n",
       "  & agency & hom16 & hom15 & rap16 & rap15 & rob16 & rob15 & agg16 & agg15 & non16 & non15 & vc16 & vc15 & change\\\\\n",
       "\\hline\n",
       "\t45 & Phoenix PD 4 & 78           & 52           & NA           & 509          & NA           & 1502         & NA           & 2450         & NA           & NA           & NA           & 4513         & NA          \\\\\n",
       "\\end{tabular}\n"
      ],
      "text/markdown": [
       "\n",
       "| <!--/--> | agency | hom16 | hom15 | rap16 | rap15 | rob16 | rob15 | agg16 | agg15 | non16 | non15 | vc16 | vc15 | change | \n",
       "|---|\n",
       "| 45 | Phoenix PD 4 | 78           | 52           | NA           | 509          | NA           | 1502         | NA           | 2450         | NA           | NA           | NA           | 4513         | NA           | \n",
       "\n",
       "\n"
      ],
      "text/plain": [
       "   agency       hom16 hom15 rap16 rap15 rob16 rob15 agg16 agg15 non16 non15\n",
       "45 Phoenix PD 4 78    52    NA    509   NA    1502  NA    2450  NA    NA   \n",
       "   vc16 vc15 change\n",
       "45 NA   4513 NA    "
      ]
     },
     "metadata": {},
     "output_type": "display_data"
    }
   ],
   "source": [
    "# your one line here\n",
    "chiefs[is.na(chiefs$change),]"
   ]
  },
  {
   "cell_type": "markdown",
   "metadata": {},
   "source": [
    "Use the same logical vector and find out how many cities had missing data using the `sum()` command."
   ]
  },
  {
   "cell_type": "code",
   "execution_count": 23,
   "metadata": {},
   "outputs": [
    {
     "data": {
      "text/html": [
       "1"
      ],
      "text/latex": [
       "1"
      ],
      "text/markdown": [
       "1"
      ],
      "text/plain": [
       "[1] 1"
      ]
     },
     "metadata": {},
     "output_type": "display_data"
    }
   ],
   "source": [
    "# your one line here\n",
    "sum(is.na(chiefs$change))"
   ]
  },
  {
   "cell_type": "markdown",
   "metadata": {},
   "source": [
    "Because there is an NA, we have to remove it if we want sum() to return a non-missing value. We know there are missing values and we've looked at where they came from. It's safe, then, to consider dropping them out when considering how many ups and downs we have."
   ]
  },
  {
   "cell_type": "code",
   "execution_count": 24,
   "metadata": {},
   "outputs": [
    {
     "data": {
      "text/html": [
       "36"
      ],
      "text/latex": [
       "36"
      ],
      "text/markdown": [
       "36"
      ],
      "text/plain": [
       "[1] 36"
      ]
     },
     "metadata": {},
     "output_type": "display_data"
    }
   ],
   "source": [
    "sum(chiefs$change > 0, na.rm=TRUE)"
   ]
  },
  {
   "cell_type": "markdown",
   "metadata": {},
   "source": [
    "And let's have a look. Use a histogram to show the data. What's a histogram again?"
   ]
  },
  {
   "cell_type": "code",
   "execution_count": 25,
   "metadata": {},
   "outputs": [
    {
     "data": {
      "image/png": "[encoded data removed]",
      "text/plain": [
       "Plot with title “Histogram of chiefs$change”"
      ]
     },
     "metadata": {},
     "output_type": "display_data"
    }
   ],
   "source": [
    "# your one line here\n",
    "hist(chiefs$change,breaks = 20)"
   ]
  },
  {
   "cell_type": "markdown",
   "metadata": {},
   "source": [
    "What do you see? Change the breaks and tell me what you see. "
   ]
  },
  {
   "cell_type": "markdown",
   "metadata": {},
   "source": [
    "**Tell me what you see**\n"
   ]
  },
  {
   "cell_type": "markdown",
   "metadata": {},
   "source": [
    "Now, let's use that logical mask again, this time to find our errant row with missing data and to create a data frame that leaves it out. Call it `chiefs2`. One hint: Using \"!\" turns TRUE to FALSE and FALSE to TRUE. So the expression below identifies just those rows that *are not* NA's. "
   ]
  },
  {
   "cell_type": "code",
   "execution_count": 26,
   "metadata": {},
   "outputs": [
    {
     "data": {
      "text/html": [
       "<ol class=list-inline>\n",
       "\t<li>TRUE</li>\n",
       "\t<li>TRUE</li>\n",
       "\t<li>TRUE</li>\n",
       "\t<li>TRUE</li>\n",
       "\t<li>TRUE</li>\n",
       "\t<li>TRUE</li>\n",
       "\t<li>TRUE</li>\n",
       "\t<li>TRUE</li>\n",
       "\t<li>TRUE</li>\n",
       "\t<li>TRUE</li>\n",
       "\t<li>TRUE</li>\n",
       "\t<li>TRUE</li>\n",
       "\t<li>TRUE</li>\n",
       "\t<li>TRUE</li>\n",
       "\t<li>TRUE</li>\n",
       "\t<li>TRUE</li>\n",
       "\t<li>TRUE</li>\n",
       "\t<li>TRUE</li>\n",
       "\t<li>TRUE</li>\n",
       "\t<li>TRUE</li>\n",
       "\t<li>TRUE</li>\n",
       "\t<li>TRUE</li>\n",
       "\t<li>TRUE</li>\n",
       "\t<li>TRUE</li>\n",
       "\t<li>TRUE</li>\n",
       "\t<li>TRUE</li>\n",
       "\t<li>TRUE</li>\n",
       "\t<li>TRUE</li>\n",
       "\t<li>TRUE</li>\n",
       "\t<li>TRUE</li>\n",
       "\t<li>TRUE</li>\n",
       "\t<li>TRUE</li>\n",
       "\t<li>TRUE</li>\n",
       "\t<li>TRUE</li>\n",
       "\t<li>TRUE</li>\n",
       "\t<li>TRUE</li>\n",
       "\t<li>TRUE</li>\n",
       "\t<li>TRUE</li>\n",
       "\t<li>TRUE</li>\n",
       "\t<li>TRUE</li>\n",
       "\t<li>TRUE</li>\n",
       "\t<li>TRUE</li>\n",
       "\t<li>TRUE</li>\n",
       "\t<li>TRUE</li>\n",
       "\t<li>FALSE</li>\n",
       "\t<li>TRUE</li>\n",
       "\t<li>TRUE</li>\n",
       "\t<li>TRUE</li>\n",
       "\t<li>TRUE</li>\n",
       "\t<li>TRUE</li>\n",
       "\t<li>TRUE</li>\n",
       "\t<li>TRUE</li>\n",
       "\t<li>TRUE</li>\n",
       "\t<li>TRUE</li>\n",
       "\t<li>TRUE</li>\n",
       "\t<li>TRUE</li>\n",
       "\t<li>TRUE</li>\n",
       "\t<li>TRUE</li>\n",
       "\t<li>TRUE</li>\n",
       "\t<li>TRUE</li>\n",
       "\t<li>TRUE</li>\n",
       "\t<li>TRUE</li>\n",
       "</ol>\n"
      ],
      "text/latex": [
       "\\begin{enumerate*}\n",
       "\\item TRUE\n",
       "\\item TRUE\n",
       "\\item TRUE\n",
       "\\item TRUE\n",
       "\\item TRUE\n",
       "\\item TRUE\n",
       "\\item TRUE\n",
       "\\item TRUE\n",
       "\\item TRUE\n",
       "\\item TRUE\n",
       "\\item TRUE\n",
       "\\item TRUE\n",
       "\\item TRUE\n",
       "\\item TRUE\n",
       "\\item TRUE\n",
       "\\item TRUE\n",
       "\\item TRUE\n",
       "\\item TRUE\n",
       "\\item TRUE\n",
       "\\item TRUE\n",
       "\\item TRUE\n",
       "\\item TRUE\n",
       "\\item TRUE\n",
       "\\item TRUE\n",
       "\\item TRUE\n",
       "\\item TRUE\n",
       "\\item TRUE\n",
       "\\item TRUE\n",
       "\\item TRUE\n",
       "\\item TRUE\n",
       "\\item TRUE\n",
       "\\item TRUE\n",
       "\\item TRUE\n",
       "\\item TRUE\n",
       "\\item TRUE\n",
       "\\item TRUE\n",
       "\\item TRUE\n",
       "\\item TRUE\n",
       "\\item TRUE\n",
       "\\item TRUE\n",
       "\\item TRUE\n",
       "\\item TRUE\n",
       "\\item TRUE\n",
       "\\item TRUE\n",
       "\\item FALSE\n",
       "\\item TRUE\n",
       "\\item TRUE\n",
       "\\item TRUE\n",
       "\\item TRUE\n",
       "\\item TRUE\n",
       "\\item TRUE\n",
       "\\item TRUE\n",
       "\\item TRUE\n",
       "\\item TRUE\n",
       "\\item TRUE\n",
       "\\item TRUE\n",
       "\\item TRUE\n",
       "\\item TRUE\n",
       "\\item TRUE\n",
       "\\item TRUE\n",
       "\\item TRUE\n",
       "\\item TRUE\n",
       "\\end{enumerate*}\n"
      ],
      "text/markdown": [
       "1. TRUE\n",
       "2. TRUE\n",
       "3. TRUE\n",
       "4. TRUE\n",
       "5. TRUE\n",
       "6. TRUE\n",
       "7. TRUE\n",
       "8. TRUE\n",
       "9. TRUE\n",
       "10. TRUE\n",
       "11. TRUE\n",
       "12. TRUE\n",
       "13. TRUE\n",
       "14. TRUE\n",
       "15. TRUE\n",
       "16. TRUE\n",
       "17. TRUE\n",
       "18. TRUE\n",
       "19. TRUE\n",
       "20. TRUE\n",
       "21. TRUE\n",
       "22. TRUE\n",
       "23. TRUE\n",
       "24. TRUE\n",
       "25. TRUE\n",
       "26. TRUE\n",
       "27. TRUE\n",
       "28. TRUE\n",
       "29. TRUE\n",
       "30. TRUE\n",
       "31. TRUE\n",
       "32. TRUE\n",
       "33. TRUE\n",
       "34. TRUE\n",
       "35. TRUE\n",
       "36. TRUE\n",
       "37. TRUE\n",
       "38. TRUE\n",
       "39. TRUE\n",
       "40. TRUE\n",
       "41. TRUE\n",
       "42. TRUE\n",
       "43. TRUE\n",
       "44. TRUE\n",
       "45. FALSE\n",
       "46. TRUE\n",
       "47. TRUE\n",
       "48. TRUE\n",
       "49. TRUE\n",
       "50. TRUE\n",
       "51. TRUE\n",
       "52. TRUE\n",
       "53. TRUE\n",
       "54. TRUE\n",
       "55. TRUE\n",
       "56. TRUE\n",
       "57. TRUE\n",
       "58. TRUE\n",
       "59. TRUE\n",
       "60. TRUE\n",
       "61. TRUE\n",
       "62. TRUE\n",
       "\n",
       "\n"
      ],
      "text/plain": [
       " [1]  TRUE  TRUE  TRUE  TRUE  TRUE  TRUE  TRUE  TRUE  TRUE  TRUE  TRUE  TRUE\n",
       "[13]  TRUE  TRUE  TRUE  TRUE  TRUE  TRUE  TRUE  TRUE  TRUE  TRUE  TRUE  TRUE\n",
       "[25]  TRUE  TRUE  TRUE  TRUE  TRUE  TRUE  TRUE  TRUE  TRUE  TRUE  TRUE  TRUE\n",
       "[37]  TRUE  TRUE  TRUE  TRUE  TRUE  TRUE  TRUE  TRUE FALSE  TRUE  TRUE  TRUE\n",
       "[49]  TRUE  TRUE  TRUE  TRUE  TRUE  TRUE  TRUE  TRUE  TRUE  TRUE  TRUE  TRUE\n",
       "[61]  TRUE  TRUE"
      ]
     },
     "metadata": {},
     "output_type": "display_data"
    }
   ],
   "source": [
    "!is.na(chiefs$change)"
   ]
  },
  {
   "cell_type": "code",
   "execution_count": 29,
   "metadata": {},
   "outputs": [
    {
     "data": {
      "text/html": [
       "<table>\n",
       "<thead><tr><th scope=col>agency</th><th scope=col>hom16</th><th scope=col>hom15</th><th scope=col>rap16</th><th scope=col>rap15</th><th scope=col>rob16</th><th scope=col>rob15</th><th scope=col>agg16</th><th scope=col>agg15</th><th scope=col>non16</th><th scope=col>non15</th><th scope=col>vc16</th><th scope=col>vc15</th><th scope=col>change</th></tr></thead>\n",
       "<tbody>\n",
       "\t<tr><td>Albuquerque PD     </td><td>34                 </td><td>25                 </td><td>156                </td><td>199                </td><td> 753               </td><td> 861               </td><td>1601               </td><td>1608               </td><td>125                </td><td> NA                </td><td>2544               </td><td>2693               </td><td>-0.05532863        </td></tr>\n",
       "\t<tr><td>Arlington PD       </td><td>13                 </td><td> 4                 </td><td>123                </td><td>117                </td><td> 245               </td><td> 248               </td><td> 668               </td><td> 600               </td><td> NA                </td><td> NA                </td><td>1049               </td><td> 969               </td><td> 0.08255934        </td></tr>\n",
       "\t<tr><td>Atlanta PD         </td><td>57                 </td><td>45                 </td><td> 72                </td><td> 72                </td><td>1005               </td><td>1003               </td><td>1028               </td><td>1064               </td><td>161                </td><td>161                </td><td>2162               </td><td>2184               </td><td>-0.01007326        </td></tr>\n",
       "\t<tr><td>Aurora PD          </td><td>10                 </td><td> 7                 </td><td>127                </td><td>149                </td><td> 287               </td><td> 205               </td><td> 390               </td><td> 317               </td><td> 18                </td><td> 15                </td><td> 814               </td><td> 678               </td><td> 0.20058997        </td></tr>\n",
       "\t<tr><td>Austin PD          </td><td>12                 </td><td> 9                 </td><td>328                </td><td>387                </td><td> 516               </td><td> 446               </td><td>1114               </td><td> 942               </td><td> NA                </td><td> NA                </td><td>1970               </td><td>1784               </td><td> 0.10426009        </td></tr>\n",
       "\t<tr><td>Baltimore County PD</td><td>16                 </td><td>14                 </td><td>141                </td><td>134                </td><td> 583               </td><td> 652               </td><td> 823               </td><td>1193               </td><td> 20                </td><td> 18                </td><td>1563               </td><td>1993               </td><td>-0.21575514        </td></tr>\n",
       "</tbody>\n",
       "</table>\n"
      ],
      "text/latex": [
       "\\begin{tabular}{r|llllllllllllll}\n",
       " agency & hom16 & hom15 & rap16 & rap15 & rob16 & rob15 & agg16 & agg15 & non16 & non15 & vc16 & vc15 & change\\\\\n",
       "\\hline\n",
       "\t Albuquerque PD      & 34                  & 25                  & 156                 & 199                 &  753                &  861                & 1601                & 1608                & 125                 &  NA                 & 2544                & 2693                & -0.05532863        \\\\\n",
       "\t Arlington PD        & 13                  &  4                  & 123                 & 117                 &  245                &  248                &  668                &  600                &  NA                 &  NA                 & 1049                &  969                &  0.08255934        \\\\\n",
       "\t Atlanta PD          & 57                  & 45                  &  72                 &  72                 & 1005                & 1003                & 1028                & 1064                & 161                 & 161                 & 2162                & 2184                & -0.01007326        \\\\\n",
       "\t Aurora PD           & 10                  &  7                  & 127                 & 149                 &  287                &  205                &  390                &  317                &  18                 &  15                 &  814                &  678                &  0.20058997        \\\\\n",
       "\t Austin PD           & 12                  &  9                  & 328                 & 387                 &  516                &  446                & 1114                &  942                &  NA                 &  NA                 & 1970                & 1784                &  0.10426009        \\\\\n",
       "\t Baltimore County PD & 16                  & 14                  & 141                 & 134                 &  583                &  652                &  823                & 1193                &  20                 &  18                 & 1563                & 1993                & -0.21575514        \\\\\n",
       "\\end{tabular}\n"
      ],
      "text/markdown": [
       "\n",
       "agency | hom16 | hom15 | rap16 | rap15 | rob16 | rob15 | agg16 | agg15 | non16 | non15 | vc16 | vc15 | change | \n",
       "|---|---|---|---|---|---|\n",
       "| Albuquerque PD      | 34                  | 25                  | 156                 | 199                 |  753                |  861                | 1601                | 1608                | 125                 |  NA                 | 2544                | 2693                | -0.05532863         | \n",
       "| Arlington PD        | 13                  |  4                  | 123                 | 117                 |  245                |  248                |  668                |  600                |  NA                 |  NA                 | 1049                |  969                |  0.08255934         | \n",
       "| Atlanta PD          | 57                  | 45                  |  72                 |  72                 | 1005                | 1003                | 1028                | 1064                | 161                 | 161                 | 2162                | 2184                | -0.01007326         | \n",
       "| Aurora PD           | 10                  |  7                  | 127                 | 149                 |  287                |  205                |  390                |  317                |  18                 |  15                 |  814                |  678                |  0.20058997         | \n",
       "| Austin PD           | 12                  |  9                  | 328                 | 387                 |  516                |  446                | 1114                |  942                |  NA                 |  NA                 | 1970                | 1784                |  0.10426009         | \n",
       "| Baltimore County PD | 16                  | 14                  | 141                 | 134                 |  583                |  652                |  823                | 1193                |  20                 |  18                 | 1563                | 1993                | -0.21575514         | \n",
       "\n",
       "\n"
      ],
      "text/plain": [
       "  agency              hom16 hom15 rap16 rap15 rob16 rob15 agg16 agg15 non16\n",
       "1 Albuquerque PD      34    25    156   199    753   861  1601  1608  125  \n",
       "2 Arlington PD        13     4    123   117    245   248   668   600   NA  \n",
       "3 Atlanta PD          57    45     72    72   1005  1003  1028  1064  161  \n",
       "4 Aurora PD           10     7    127   149    287   205   390   317   18  \n",
       "5 Austin PD           12     9    328   387    516   446  1114   942   NA  \n",
       "6 Baltimore County PD 16    14    141   134    583   652   823  1193   20  \n",
       "  non15 vc16 vc15 change     \n",
       "1  NA   2544 2693 -0.05532863\n",
       "2  NA   1049  969  0.08255934\n",
       "3 161   2162 2184 -0.01007326\n",
       "4  15    814  678  0.20058997\n",
       "5  NA   1970 1784  0.10426009\n",
       "6  18   1563 1993 -0.21575514"
      ]
     },
     "metadata": {},
     "output_type": "display_data"
    }
   ],
   "source": [
    "# your one line here\n",
    "chiefs2 = chiefs[!is.na(chiefs$change),]\n",
    "head(chiefs2)"
   ]
  },
  {
   "cell_type": "markdown",
   "metadata": {},
   "source": [
    "Find those cities with a relative increase greater than 10%..."
   ]
  },
  {
   "cell_type": "code",
   "execution_count": 30,
   "metadata": {
    "scrolled": true
   },
   "outputs": [
    {
     "data": {
      "text/html": [
       "<table>\n",
       "<thead><tr><th></th><th scope=col>agency</th><th scope=col>hom16</th><th scope=col>hom15</th><th scope=col>rap16</th><th scope=col>rap15</th><th scope=col>rob16</th><th scope=col>rob15</th><th scope=col>agg16</th><th scope=col>agg15</th><th scope=col>non16</th><th scope=col>non15</th><th scope=col>vc16</th><th scope=col>vc15</th><th scope=col>change</th></tr></thead>\n",
       "<tbody>\n",
       "\t<tr><th scope=row>4</th><td>Aurora PD                </td><td> 10                      </td><td>  7                      </td><td> 127                     </td><td> 149                     </td><td> 287                     </td><td> 205                     </td><td> 390                     </td><td> 317                     </td><td>  18                     </td><td> 15                      </td><td>  814                    </td><td>  678                    </td><td>0.2005900                </td></tr>\n",
       "\t<tr><th scope=row>5</th><td>Austin PD                </td><td> 12                      </td><td>  9                      </td><td> 328                     </td><td> 387                     </td><td> 516                     </td><td> 446                     </td><td>1114                     </td><td> 942                     </td><td>  NA                     </td><td> NA                      </td><td> 1970                    </td><td> 1784                    </td><td>0.1042601                </td></tr>\n",
       "\t<tr><th scope=row>9</th><td>Charlotte-Mecklenburg PD </td><td> 25                      </td><td> 27                      </td><td> 144                     </td><td> 140                     </td><td> 912                     </td><td> 770                     </td><td>2080                     </td><td>1658                     </td><td> 179                     </td><td>109                      </td><td> 3161                    </td><td> 2595                    </td><td>0.2181118                </td></tr>\n",
       "\t<tr><th scope=row>10</th><td>Chicago PD               </td><td>316                      </td><td>211                      </td><td> 677                     </td><td> 643                     </td><td>5176                     </td><td>4050                     </td><td>2751                     </td><td>2298                     </td><td>1321                     </td><td>875                      </td><td> 8920                    </td><td> 7202                    </td><td>0.2385448                </td></tr>\n",
       "\t<tr><th scope=row>16</th><td>El Paso PD               </td><td>  8                      </td><td>  9                      </td><td> 158                     </td><td> 154                     </td><td> 221                     </td><td> 189                     </td><td> 967                     </td><td> 848                     </td><td>  NA                     </td><td> NA                      </td><td> 1354                    </td><td> 1200                    </td><td>0.1283333                </td></tr>\n",
       "\t<tr><th scope=row>17</th><td>Fairfax County PD        </td><td>  7                      </td><td>  5                      </td><td>  17                     </td><td>  12                     </td><td> 216                     </td><td> 196                     </td><td>  98                     </td><td>  80                     </td><td>  NA                     </td><td> NA                      </td><td>  338                    </td><td>  293                    </td><td>0.1535836                </td></tr>\n",
       "\t<tr><th scope=row>19</th><td>Fresno PD                </td><td> 17                      </td><td> 25                      </td><td>  52                     </td><td>  65                     </td><td> 548                     </td><td> 473                     </td><td> 946                     </td><td> 754                     </td><td>  95                     </td><td> 77                      </td><td> 1563                    </td><td> 1317                    </td><td>0.1867882                </td></tr>\n",
       "\t<tr><th scope=row>21</th><td>Houston PD               </td><td>158                      </td><td>144                      </td><td> 612                     </td><td> 368                     </td><td>4764                     </td><td>4772                     </td><td>6059                     </td><td>4916                     </td><td> 197                     </td><td>148                      </td><td>11593                    </td><td>10200                    </td><td>0.1365686                </td></tr>\n",
       "\t<tr><th scope=row>22</th><td>Indianapolis PD          </td><td> 61                      </td><td> 53                      </td><td> 232                     </td><td> 228                     </td><td>1523                     </td><td>1249                     </td><td>1586                     </td><td>1427                     </td><td> 245                     </td><td>190                      </td><td> 3402                    </td><td> 2957                    </td><td>0.1504904                </td></tr>\n",
       "\t<tr><th scope=row>24</th><td>Las Vegas Metropolitan PD</td><td> 90                      </td><td> 56                      </td><td> 612                     </td><td> 551                     </td><td>1597                     </td><td>1340                     </td><td> 956                     </td><td> 766                     </td><td> 436                     </td><td>347                      </td><td> 3255                    </td><td> 2713                    </td><td>0.1997788                </td></tr>\n",
       "\t<tr><th scope=row>27</th><td>Los Angeles PD           </td><td>134                      </td><td>129                      </td><td>1226                     </td><td>1148                     </td><td>4990                     </td><td>4258                     </td><td>7728                     </td><td>6348                     </td><td> 450                     </td><td>451                      </td><td>14078                    </td><td>11883                    </td><td>0.1847177                </td></tr>\n",
       "\t<tr><th scope=row>28</th><td>Louisville Metro PD      </td><td> 54                      </td><td> 35                      </td><td>  70                     </td><td>  80                     </td><td> 766                     </td><td> 695                     </td><td>1452                     </td><td>1255                     </td><td> 199                     </td><td>135                      </td><td> 2342                    </td><td> 2065                    </td><td>0.1341404                </td></tr>\n",
       "\t<tr><th scope=row>37</th><td>New Orleans PD           </td><td> 67                      </td><td> 92                      </td><td> 299                     </td><td> 152                     </td><td> 686                     </td><td> 622                     </td><td> 949                     </td><td> 786                     </td><td> 150                     </td><td>125                      </td><td> 2001                    </td><td> 1652                    </td><td>0.2112591                </td></tr>\n",
       "\t<tr><th scope=row>50</th><td>Salt Lake City PD        </td><td>  3                      </td><td>  4                      </td><td>  96                     </td><td>  76                     </td><td> 269                     </td><td> 218                     </td><td> 402                     </td><td> 345                     </td><td>  NA                     </td><td> NA                      </td><td>  770                    </td><td>  643                    </td><td>0.1975117                </td></tr>\n",
       "\t<tr><th scope=row>51</th><td>San Antonio PD           </td><td> 70                      </td><td> 51                      </td><td> 572                     </td><td> 509                     </td><td>1051                     </td><td> 915                     </td><td>3418                     </td><td>2530                     </td><td>  NA                     </td><td> NA                      </td><td> 5111                    </td><td> 4005                    </td><td>0.2761548                </td></tr>\n",
       "\t<tr><th scope=row>54</th><td>San Jose PD              </td><td> 25                      </td><td> 11                      </td><td> 220                     </td><td> 178                     </td><td> 583                     </td><td> 581                     </td><td>1091                     </td><td> 930                     </td><td>  NA                     </td><td> NA                      </td><td> 1919                    </td><td> 1700                    </td><td>0.1288235                </td></tr>\n",
       "\t<tr><th scope=row>58</th><td>Tucson PD                </td><td> 11                      </td><td> 16                      </td><td> 221                     </td><td> 213                     </td><td> 537                     </td><td> 516                     </td><td>1219                     </td><td> 961                     </td><td>  NA                     </td><td> NA                      </td><td> 1988                    </td><td> 1706                    </td><td>0.1652989                </td></tr>\n",
       "\t<tr><th scope=row>59</th><td>Tulsa PD                 </td><td> 30                      </td><td> 27                      </td><td> 185                     </td><td> 170                     </td><td> 459                     </td><td> 426                     </td><td>1345                     </td><td>1176                     </td><td>  NA                     </td><td> NA                      </td><td> 2019                    </td><td> 1799                    </td><td>0.1222902                </td></tr>\n",
       "\t<tr><th scope=row>60</th><td>Virginia Beach PD        </td><td>  8                      </td><td> 12                      </td><td> 102                     </td><td>  75                     </td><td> 131                     </td><td> 126                     </td><td> 136                     </td><td> 129                     </td><td>  NA                     </td><td> NA                      </td><td>  377                    </td><td>  342                    </td><td>0.1023392                </td></tr>\n",
       "\t<tr><th scope=row>62</th><td>Wichita PD               </td><td> 10                      </td><td> 13                      </td><td> 183                     </td><td> 165                     </td><td> 289                     </td><td> 329                     </td><td>1100                     </td><td> 855                     </td><td>  61                     </td><td> 24                      </td><td> 1582                    </td><td> 1362                    </td><td>0.1615272                </td></tr>\n",
       "</tbody>\n",
       "</table>\n"
      ],
      "text/latex": [
       "\\begin{tabular}{r|llllllllllllll}\n",
       "  & agency & hom16 & hom15 & rap16 & rap15 & rob16 & rob15 & agg16 & agg15 & non16 & non15 & vc16 & vc15 & change\\\\\n",
       "\\hline\n",
       "\t4 & Aurora PD                 &  10                       &   7                       &  127                      &  149                      &  287                      &  205                      &  390                      &  317                      &   18                      &  15                       &   814                     &   678                     & 0.2005900                \\\\\n",
       "\t5 & Austin PD                 &  12                       &   9                       &  328                      &  387                      &  516                      &  446                      & 1114                      &  942                      &   NA                      &  NA                       &  1970                     &  1784                     & 0.1042601                \\\\\n",
       "\t9 & Charlotte-Mecklenburg PD  &  25                       &  27                       &  144                      &  140                      &  912                      &  770                      & 2080                      & 1658                      &  179                      & 109                       &  3161                     &  2595                     & 0.2181118                \\\\\n",
       "\t10 & Chicago PD                & 316                       & 211                       &  677                      &  643                      & 5176                      & 4050                      & 2751                      & 2298                      & 1321                      & 875                       &  8920                     &  7202                     & 0.2385448                \\\\\n",
       "\t16 & El Paso PD                &   8                       &   9                       &  158                      &  154                      &  221                      &  189                      &  967                      &  848                      &   NA                      &  NA                       &  1354                     &  1200                     & 0.1283333                \\\\\n",
       "\t17 & Fairfax County PD         &   7                       &   5                       &   17                      &   12                      &  216                      &  196                      &   98                      &   80                      &   NA                      &  NA                       &   338                     &   293                     & 0.1535836                \\\\\n",
       "\t19 & Fresno PD                 &  17                       &  25                       &   52                      &   65                      &  548                      &  473                      &  946                      &  754                      &   95                      &  77                       &  1563                     &  1317                     & 0.1867882                \\\\\n",
       "\t21 & Houston PD                & 158                       & 144                       &  612                      &  368                      & 4764                      & 4772                      & 6059                      & 4916                      &  197                      & 148                       & 11593                     & 10200                     & 0.1365686                \\\\\n",
       "\t22 & Indianapolis PD           &  61                       &  53                       &  232                      &  228                      & 1523                      & 1249                      & 1586                      & 1427                      &  245                      & 190                       &  3402                     &  2957                     & 0.1504904                \\\\\n",
       "\t24 & Las Vegas Metropolitan PD &  90                       &  56                       &  612                      &  551                      & 1597                      & 1340                      &  956                      &  766                      &  436                      & 347                       &  3255                     &  2713                     & 0.1997788                \\\\\n",
       "\t27 & Los Angeles PD            & 134                       & 129                       & 1226                      & 1148                      & 4990                      & 4258                      & 7728                      & 6348                      &  450                      & 451                       & 14078                     & 11883                     & 0.1847177                \\\\\n",
       "\t28 & Louisville Metro PD       &  54                       &  35                       &   70                      &   80                      &  766                      &  695                      & 1452                      & 1255                      &  199                      & 135                       &  2342                     &  2065                     & 0.1341404                \\\\\n",
       "\t37 & New Orleans PD            &  67                       &  92                       &  299                      &  152                      &  686                      &  622                      &  949                      &  786                      &  150                      & 125                       &  2001                     &  1652                     & 0.2112591                \\\\\n",
       "\t50 & Salt Lake City PD         &   3                       &   4                       &   96                      &   76                      &  269                      &  218                      &  402                      &  345                      &   NA                      &  NA                       &   770                     &   643                     & 0.1975117                \\\\\n",
       "\t51 & San Antonio PD            &  70                       &  51                       &  572                      &  509                      & 1051                      &  915                      & 3418                      & 2530                      &   NA                      &  NA                       &  5111                     &  4005                     & 0.2761548                \\\\\n",
       "\t54 & San Jose PD               &  25                       &  11                       &  220                      &  178                      &  583                      &  581                      & 1091                      &  930                      &   NA                      &  NA                       &  1919                     &  1700                     & 0.1288235                \\\\\n",
       "\t58 & Tucson PD                 &  11                       &  16                       &  221                      &  213                      &  537                      &  516                      & 1219                      &  961                      &   NA                      &  NA                       &  1988                     &  1706                     & 0.1652989                \\\\\n",
       "\t59 & Tulsa PD                  &  30                       &  27                       &  185                      &  170                      &  459                      &  426                      & 1345                      & 1176                      &   NA                      &  NA                       &  2019                     &  1799                     & 0.1222902                \\\\\n",
       "\t60 & Virginia Beach PD         &   8                       &  12                       &  102                      &   75                      &  131                      &  126                      &  136                      &  129                      &   NA                      &  NA                       &   377                     &   342                     & 0.1023392                \\\\\n",
       "\t62 & Wichita PD                &  10                       &  13                       &  183                      &  165                      &  289                      &  329                      & 1100                      &  855                      &   61                      &  24                       &  1582                     &  1362                     & 0.1615272                \\\\\n",
       "\\end{tabular}\n"
      ],
      "text/markdown": [
       "\n",
       "| <!--/--> | agency | hom16 | hom15 | rap16 | rap15 | rob16 | rob15 | agg16 | agg15 | non16 | non15 | vc16 | vc15 | change | \n",
       "|---|---|---|---|---|---|---|---|---|---|---|---|---|---|---|---|---|---|---|---|\n",
       "| 4 | Aurora PD                 |  10                       |   7                       |  127                      |  149                      |  287                      |  205                      |  390                      |  317                      |   18                      |  15                       |   814                     |   678                     | 0.2005900                 | \n",
       "| 5 | Austin PD                 |  12                       |   9                       |  328                      |  387                      |  516                      |  446                      | 1114                      |  942                      |   NA                      |  NA                       |  1970                     |  1784                     | 0.1042601                 | \n",
       "| 9 | Charlotte-Mecklenburg PD  |  25                       |  27                       |  144                      |  140                      |  912                      |  770                      | 2080                      | 1658                      |  179                      | 109                       |  3161                     |  2595                     | 0.2181118                 | \n",
       "| 10 | Chicago PD                | 316                       | 211                       |  677                      |  643                      | 5176                      | 4050                      | 2751                      | 2298                      | 1321                      | 875                       |  8920                     |  7202                     | 0.2385448                 | \n",
       "| 16 | El Paso PD                |   8                       |   9                       |  158                      |  154                      |  221                      |  189                      |  967                      |  848                      |   NA                      |  NA                       |  1354                     |  1200                     | 0.1283333                 | \n",
       "| 17 | Fairfax County PD         |   7                       |   5                       |   17                      |   12                      |  216                      |  196                      |   98                      |   80                      |   NA                      |  NA                       |   338                     |   293                     | 0.1535836                 | \n",
       "| 19 | Fresno PD                 |  17                       |  25                       |   52                      |   65                      |  548                      |  473                      |  946                      |  754                      |   95                      |  77                       |  1563                     |  1317                     | 0.1867882                 | \n",
       "| 21 | Houston PD                | 158                       | 144                       |  612                      |  368                      | 4764                      | 4772                      | 6059                      | 4916                      |  197                      | 148                       | 11593                     | 10200                     | 0.1365686                 | \n",
       "| 22 | Indianapolis PD           |  61                       |  53                       |  232                      |  228                      | 1523                      | 1249                      | 1586                      | 1427                      |  245                      | 190                       |  3402                     |  2957                     | 0.1504904                 | \n",
       "| 24 | Las Vegas Metropolitan PD |  90                       |  56                       |  612                      |  551                      | 1597                      | 1340                      |  956                      |  766                      |  436                      | 347                       |  3255                     |  2713                     | 0.1997788                 | \n",
       "| 27 | Los Angeles PD            | 134                       | 129                       | 1226                      | 1148                      | 4990                      | 4258                      | 7728                      | 6348                      |  450                      | 451                       | 14078                     | 11883                     | 0.1847177                 | \n",
       "| 28 | Louisville Metro PD       |  54                       |  35                       |   70                      |   80                      |  766                      |  695                      | 1452                      | 1255                      |  199                      | 135                       |  2342                     |  2065                     | 0.1341404                 | \n",
       "| 37 | New Orleans PD            |  67                       |  92                       |  299                      |  152                      |  686                      |  622                      |  949                      |  786                      |  150                      | 125                       |  2001                     |  1652                     | 0.2112591                 | \n",
       "| 50 | Salt Lake City PD         |   3                       |   4                       |   96                      |   76                      |  269                      |  218                      |  402                      |  345                      |   NA                      |  NA                       |   770                     |   643                     | 0.1975117                 | \n",
       "| 51 | San Antonio PD            |  70                       |  51                       |  572                      |  509                      | 1051                      |  915                      | 3418                      | 2530                      |   NA                      |  NA                       |  5111                     |  4005                     | 0.2761548                 | \n",
       "| 54 | San Jose PD               |  25                       |  11                       |  220                      |  178                      |  583                      |  581                      | 1091                      |  930                      |   NA                      |  NA                       |  1919                     |  1700                     | 0.1288235                 | \n",
       "| 58 | Tucson PD                 |  11                       |  16                       |  221                      |  213                      |  537                      |  516                      | 1219                      |  961                      |   NA                      |  NA                       |  1988                     |  1706                     | 0.1652989                 | \n",
       "| 59 | Tulsa PD                  |  30                       |  27                       |  185                      |  170                      |  459                      |  426                      | 1345                      | 1176                      |   NA                      |  NA                       |  2019                     |  1799                     | 0.1222902                 | \n",
       "| 60 | Virginia Beach PD         |   8                       |  12                       |  102                      |   75                      |  131                      |  126                      |  136                      |  129                      |   NA                      |  NA                       |   377                     |   342                     | 0.1023392                 | \n",
       "| 62 | Wichita PD                |  10                       |  13                       |  183                      |  165                      |  289                      |  329                      | 1100                      |  855                      |   61                      |  24                       |  1582                     |  1362                     | 0.1615272                 | \n",
       "\n",
       "\n"
      ],
      "text/plain": [
       "   agency                    hom16 hom15 rap16 rap15 rob16 rob15 agg16 agg15\n",
       "4  Aurora PD                  10     7    127   149   287   205   390   317 \n",
       "5  Austin PD                  12     9    328   387   516   446  1114   942 \n",
       "9  Charlotte-Mecklenburg PD   25    27    144   140   912   770  2080  1658 \n",
       "10 Chicago PD                316   211    677   643  5176  4050  2751  2298 \n",
       "16 El Paso PD                  8     9    158   154   221   189   967   848 \n",
       "17 Fairfax County PD           7     5     17    12   216   196    98    80 \n",
       "19 Fresno PD                  17    25     52    65   548   473   946   754 \n",
       "21 Houston PD                158   144    612   368  4764  4772  6059  4916 \n",
       "22 Indianapolis PD            61    53    232   228  1523  1249  1586  1427 \n",
       "24 Las Vegas Metropolitan PD  90    56    612   551  1597  1340   956   766 \n",
       "27 Los Angeles PD            134   129   1226  1148  4990  4258  7728  6348 \n",
       "28 Louisville Metro PD        54    35     70    80   766   695  1452  1255 \n",
       "37 New Orleans PD             67    92    299   152   686   622   949   786 \n",
       "50 Salt Lake City PD           3     4     96    76   269   218   402   345 \n",
       "51 San Antonio PD             70    51    572   509  1051   915  3418  2530 \n",
       "54 San Jose PD                25    11    220   178   583   581  1091   930 \n",
       "58 Tucson PD                  11    16    221   213   537   516  1219   961 \n",
       "59 Tulsa PD                   30    27    185   170   459   426  1345  1176 \n",
       "60 Virginia Beach PD           8    12    102    75   131   126   136   129 \n",
       "62 Wichita PD                 10    13    183   165   289   329  1100   855 \n",
       "   non16 non15 vc16  vc15  change   \n",
       "4    18   15     814   678 0.2005900\n",
       "5    NA   NA    1970  1784 0.1042601\n",
       "9   179  109    3161  2595 0.2181118\n",
       "10 1321  875    8920  7202 0.2385448\n",
       "16   NA   NA    1354  1200 0.1283333\n",
       "17   NA   NA     338   293 0.1535836\n",
       "19   95   77    1563  1317 0.1867882\n",
       "21  197  148   11593 10200 0.1365686\n",
       "22  245  190    3402  2957 0.1504904\n",
       "24  436  347    3255  2713 0.1997788\n",
       "27  450  451   14078 11883 0.1847177\n",
       "28  199  135    2342  2065 0.1341404\n",
       "37  150  125    2001  1652 0.2112591\n",
       "50   NA   NA     770   643 0.1975117\n",
       "51   NA   NA    5111  4005 0.2761548\n",
       "54   NA   NA    1919  1700 0.1288235\n",
       "58   NA   NA    1988  1706 0.1652989\n",
       "59   NA   NA    2019  1799 0.1222902\n",
       "60   NA   NA     377   342 0.1023392\n",
       "62   61   24    1582  1362 0.1615272"
      ]
     },
     "metadata": {},
     "output_type": "display_data"
    }
   ],
   "source": [
    "# your one line here\n",
    "chiefs2[chiefs2$change > 0.1,]"
   ]
  },
  {
   "cell_type": "markdown",
   "metadata": {},
   "source": [
    "... and an increase less than 10%."
   ]
  },
  {
   "cell_type": "code",
   "execution_count": 31,
   "metadata": {},
   "outputs": [
    {
     "data": {
      "text/html": [
       "<table>\n",
       "<thead><tr><th></th><th scope=col>agency</th><th scope=col>hom16</th><th scope=col>hom15</th><th scope=col>rap16</th><th scope=col>rap15</th><th scope=col>rob16</th><th scope=col>rob15</th><th scope=col>agg16</th><th scope=col>agg15</th><th scope=col>non16</th><th scope=col>non15</th><th scope=col>vc16</th><th scope=col>vc15</th><th scope=col>change</th></tr></thead>\n",
       "<tbody>\n",
       "\t<tr><th scope=row>1</th><td>Albuquerque PD                   </td><td> 34                              </td><td> 25                              </td><td>156                              </td><td>199                              </td><td> 753                             </td><td> 861                             </td><td>1601                             </td><td>1608                             </td><td>125                              </td><td>  NA                             </td><td> 2544                            </td><td> 2693                            </td><td>-0.05532863                      </td></tr>\n",
       "\t<tr><th scope=row>2</th><td>Arlington PD                     </td><td> 13                              </td><td>  4                              </td><td>123                              </td><td>117                              </td><td> 245                             </td><td> 248                             </td><td> 668                             </td><td> 600                             </td><td> NA                              </td><td>  NA                             </td><td> 1049                            </td><td>  969                            </td><td> 0.08255934                      </td></tr>\n",
       "\t<tr><th scope=row>3</th><td>Atlanta PD                       </td><td> 57                              </td><td> 45                              </td><td> 72                              </td><td> 72                              </td><td>1005                             </td><td>1003                             </td><td>1028                             </td><td>1064                             </td><td>161                              </td><td> 161                             </td><td> 2162                            </td><td> 2184                            </td><td>-0.01007326                      </td></tr>\n",
       "\t<tr><th scope=row>6</th><td>Baltimore County PD              </td><td> 16                              </td><td> 14                              </td><td>141                              </td><td>134                              </td><td> 583                             </td><td> 652                             </td><td> 823                             </td><td>1193                             </td><td> 20                              </td><td>  18                             </td><td> 1563                            </td><td> 1993                            </td><td>-0.21575514                      </td></tr>\n",
       "\t<tr><th scope=row>7</th><td>Baltimore PD                     </td><td>137                              </td><td>144                              </td><td>137                              </td><td>141                              </td><td>2373                             </td><td>2041                             </td><td>2344                             </td><td>2285                             </td><td>318                              </td><td> 282                             </td><td> 4991                            </td><td> 4611                            </td><td> 0.08241162                      </td></tr>\n",
       "\t<tr><th scope=row>8</th><td>Boston PD                        </td><td> 22                              </td><td> 13                              </td><td>116                              </td><td> 98                              </td><td> 659                             </td><td> 661                             </td><td>1269                             </td><td>1399                             </td><td> 93                              </td><td> 100                             </td><td> 2066                            </td><td> 2171                            </td><td>-0.04836481                      </td></tr>\n",
       "\t<tr><th scope=row>11</th><td>Cincinnati PD                    </td><td> 35                              </td><td> 41                              </td><td>127                              </td><td>125                              </td><td> 574                             </td><td> 598                             </td><td> 350                             </td><td> 344                             </td><td>189                              </td><td> 227                             </td><td> 1086                            </td><td> 1108                            </td><td>-0.01985560                      </td></tr>\n",
       "\t<tr><th scope=row>12</th><td>Cleveland PD                     </td><td> 47                              </td><td> 50                              </td><td>218                              </td><td>286                              </td><td>1285                             </td><td>1394                             </td><td>1075                             </td><td>1118                             </td><td>411                              </td><td> 388                             </td><td> 2625                            </td><td> 2848                            </td><td>-0.07830056                      </td></tr>\n",
       "\t<tr><th scope=row>13</th><td>Columbus Police                  </td><td> 39                              </td><td> 48                              </td><td>347                              </td><td>350                              </td><td> 963                             </td><td>1105                             </td><td> 678                             </td><td> 854                             </td><td>160                              </td><td> 161                             </td><td> 2027                            </td><td> 2357                            </td><td>-0.14000849                      </td></tr>\n",
       "\t<tr><th scope=row>14</th><td>Dallas PD                        </td><td> 83                              </td><td> 69                              </td><td>381                              </td><td>405                              </td><td>2150                             </td><td>2008                             </td><td>2160                             </td><td>1860                             </td><td> NA                              </td><td>  NA                             </td><td> 4774                            </td><td> 4342                            </td><td> 0.09949332                      </td></tr>\n",
       "\t<tr><th scope=row>15</th><td>Denver PD                        </td><td> 19                              </td><td> 20                              </td><td>249                              </td><td>309                              </td><td> 578                             </td><td> 561                             </td><td>1364                             </td><td>1290                             </td><td>103                              </td><td>  95                             </td><td> 2210                            </td><td> 2180                            </td><td> 0.01376147                      </td></tr>\n",
       "\t<tr><th scope=row>18</th><td>Fort Worth PD                    </td><td> 34                              </td><td> 28                              </td><td>182                              </td><td>215                              </td><td> 585                             </td><td> 486                             </td><td>1368                             </td><td>1396                             </td><td> 59                              </td><td>  65                             </td><td> 2169                            </td><td> 2125                            </td><td> 0.02070588                      </td></tr>\n",
       "\t<tr><th scope=row>20</th><td>Honolulu PD 2                    </td><td>  8                              </td><td>  6                              </td><td> 95                              </td><td>133                              </td><td> 276                             </td><td> 260                             </td><td> 365                             </td><td> 364                             </td><td> 19                              </td><td>  33                             </td><td>  744                            </td><td>  763                            </td><td>-0.02490170                      </td></tr>\n",
       "\t<tr><th scope=row>23</th><td>Jacksonville Sheriff's Dept      </td><td> 59                              </td><td> 50                              </td><td>172                              </td><td>187                              </td><td> 771                             </td><td> 673                             </td><td>1407                             </td><td>1539                             </td><td>162                              </td><td> 180                             </td><td> 2409                            </td><td> 2449                            </td><td>-0.01633320                      </td></tr>\n",
       "\t<tr><th scope=row>25</th><td>Long Beach PD                    </td><td> 15                              </td><td> 13                              </td><td>109                              </td><td> 96                              </td><td> 540                             </td><td> 466                             </td><td> 744                             </td><td> 727                             </td><td> NA                              </td><td>  NA                             </td><td> 1408                            </td><td> 1302                            </td><td> 0.08141321                      </td></tr>\n",
       "\t<tr><th scope=row>26</th><td>Los Angeles County Sheriff's Dept</td><td>110                              </td><td> 85                              </td><td>399                              </td><td>365                              </td><td>2202                             </td><td>1915                             </td><td>4371                             </td><td>4124                             </td><td> NA                              </td><td>  NA                             </td><td> 7082                            </td><td> 6489                            </td><td> 0.09138542                      </td></tr>\n",
       "\t<tr><th scope=row>29</th><td>Memphis PD                       </td><td>106                              </td><td> 65                              </td><td>170                              </td><td>191                              </td><td>1547                             </td><td>1413                             </td><td>2512                             </td><td>2354                             </td><td>452                              </td><td> 796                             </td><td> 4335                            </td><td> 4023                            </td><td> 0.07755406                      </td></tr>\n",
       "\t<tr><th scope=row>30</th><td>Mesa PD                          </td><td> 11                              </td><td>  6                              </td><td>117                              </td><td>142                              </td><td> 190                             </td><td> 219                             </td><td> 605                             </td><td> 652                             </td><td> NA                              </td><td>  NA                             </td><td>  923                            </td><td> 1019                            </td><td>-0.09421001                      </td></tr>\n",
       "\t<tr><th scope=row>31</th><td>Miami PD                         </td><td> 27                              </td><td> 43                              </td><td> 42                              </td><td> 35                              </td><td> 671                             </td><td> 768                             </td><td>1182                             </td><td>1226                             </td><td> NA                              </td><td>  NA                             </td><td> 1922                            </td><td> 2072                            </td><td>-0.07239382                      </td></tr>\n",
       "\t<tr><th scope=row>32</th><td>Miami-Dade PD                    </td><td> 37                              </td><td> 39                              </td><td>227                              </td><td>191                              </td><td> 680                             </td><td> 821                             </td><td>1955                             </td><td>2111                             </td><td>119                              </td><td> 122                             </td><td> 2899                            </td><td> 3162                            </td><td>-0.08317521                      </td></tr>\n",
       "\t<tr><th scope=row>33</th><td>Milwaukee PD                     </td><td> 54                              </td><td> 73                              </td><td>176                              </td><td>161                              </td><td>1528                             </td><td>1687                             </td><td>2625                             </td><td>2420                             </td><td>267                              </td><td> 298                             </td><td> 4383                            </td><td> 4341                            </td><td> 0.00967519                      </td></tr>\n",
       "\t<tr><th scope=row>34</th><td>Montgomery Co PD                 </td><td>  8                              </td><td> 15                              </td><td>171                              </td><td>135                              </td><td> 313                             </td><td> 296                             </td><td> 294                             </td><td> 450                             </td><td> 15                              </td><td>  NA                             </td><td>  786                            </td><td>  896                            </td><td>-0.12276786                      </td></tr>\n",
       "\t<tr><th scope=row>35</th><td>Nashville PD                     </td><td> 34                              </td><td> 31                              </td><td>296                              </td><td>286                              </td><td> 869                             </td><td> 813                             </td><td>2502                             </td><td>2358                             </td><td>109                              </td><td> 103                             </td><td> 3701                            </td><td> 3488                            </td><td> 0.06106651                      </td></tr>\n",
       "\t<tr><th scope=row>36</th><td>Nassau County PD 1               </td><td>  3                              </td><td>  4                              </td><td> 16                              </td><td> 27                              </td><td> 215                             </td><td> 192                             </td><td> 276                             </td><td> 260                             </td><td> 15                              </td><td>   9                             </td><td>  510                            </td><td>  483                            </td><td> 0.05590062                      </td></tr>\n",
       "\t<tr><th scope=row>38</th><td>New York City PD                 </td><td>161                              </td><td>172                              </td><td>696                              </td><td>648                              </td><td>7337                             </td><td>7627                             </td><td>9926                             </td><td>9401                             </td><td>349                              </td><td> 442                             </td><td>18120                            </td><td>17848                            </td><td> 0.01523980                      </td></tr>\n",
       "\t<tr><th scope=row>39</th><td>Newark PD                        </td><td> 45                              </td><td> 40                              </td><td> 46                              </td><td> 46                              </td><td> 621                             </td><td> 891                             </td><td> 519                             </td><td> 436                             </td><td> 79                              </td><td> 107                             </td><td> 1231                            </td><td> 1413                            </td><td>-0.12880396                      </td></tr>\n",
       "\t<tr><th scope=row>40</th><td>Oakland PD                       </td><td> 28                              </td><td> 41                              </td><td>101                              </td><td>129                              </td><td>1486                             </td><td>1735                             </td><td>1306                             </td><td>1264                             </td><td>145                              </td><td> 168                             </td><td> 2921                            </td><td> 3169                            </td><td>-0.07825813                      </td></tr>\n",
       "\t<tr><th scope=row>41</th><td>Oklahoma City PD 2               </td><td> 19                              </td><td> 14                              </td><td>158                              </td><td>160                              </td><td> 376                             </td><td> 322                             </td><td>1123                             </td><td>1030                             </td><td> NA                              </td><td>  NA                             </td><td> 1676                            </td><td> 1526                            </td><td> 0.09829620                      </td></tr>\n",
       "\t<tr><th scope=row>42</th><td>Omaha NE PD                      </td><td> 12                              </td><td> 20                              </td><td>121                              </td><td>100                              </td><td> 242                             </td><td> 329                             </td><td> 730                             </td><td> 758                             </td><td> 60                              </td><td>  65                             </td><td> 1105                            </td><td> 1207                            </td><td>-0.08450704                      </td></tr>\n",
       "\t<tr><th scope=row>43</th><td>Orlando PD 3                     </td><td> 65                              </td><td>  8                              </td><td> 84                              </td><td> 92                              </td><td> 240                             </td><td> 270                             </td><td> 804                             </td><td> 900                             </td><td> 35                              </td><td>  40                             </td><td> 1193                            </td><td> 1270                            </td><td>-0.06062992                      </td></tr>\n",
       "\t<tr><th scope=row>44</th><td>Philadelphia PD                  </td><td>122                              </td><td>115                              </td><td>634                              </td><td>679                              </td><td>2896                             </td><td>3113                             </td><td>3722                             </td><td>3741                             </td><td>463                              </td><td> 399                             </td><td> 7374                            </td><td> 7648                            </td><td>-0.03582636                      </td></tr>\n",
       "\t<tr><th scope=row>46</th><td>Pittsburgh PD                    </td><td> 30                              </td><td> 21                              </td><td> 52                              </td><td> 37                              </td><td> 435                             </td><td> 391                             </td><td> 626                             </td><td> 601                             </td><td>239                              </td><td> 238                             </td><td> 1143                            </td><td> 1050                            </td><td> 0.08857143                      </td></tr>\n",
       "\t<tr><th scope=row>47</th><td>Prince George’s County PD        </td><td> 48                              </td><td> 28                              </td><td> 40                              </td><td> 48                              </td><td> 569                             </td><td> 522                             </td><td> 163                             </td><td> 167                             </td><td> 83                              </td><td>  68                             </td><td>  820                            </td><td>  765                            </td><td> 0.07189542                      </td></tr>\n",
       "\t<tr><th scope=row>48</th><td>Raleigh PD                       </td><td>  6                              </td><td>  7                              </td><td> 55                              </td><td> 50                              </td><td> 289                             </td><td> 322                             </td><td> 386                             </td><td> 443                             </td><td> 35                              </td><td>  31                             </td><td>  736                            </td><td>  822                            </td><td>-0.10462287                      </td></tr>\n",
       "\t<tr><th scope=row>49</th><td>Sacramento PD                    </td><td> 13                              </td><td> 25                              </td><td> 39                              </td><td> 53                              </td><td> 533                             </td><td> 569                             </td><td>1131                             </td><td>1185                             </td><td> NA                              </td><td>  NA                             </td><td> 1716                            </td><td> 1832                            </td><td>-0.06331878                      </td></tr>\n",
       "\t<tr><th scope=row>52</th><td>San Diego PD                     </td><td> 24                              </td><td> 17                              </td><td>297                              </td><td>253                              </td><td> 723                             </td><td> 659                             </td><td>1600                             </td><td>1916                             </td><td> NA                              </td><td>  NA                             </td><td> 2644                            </td><td> 2845                            </td><td>-0.07065026                      </td></tr>\n",
       "\t<tr><th scope=row>53</th><td>San Francisco PD                 </td><td> 26                              </td><td> 24                              </td><td>163                              </td><td>174                              </td><td>1497                             </td><td>1896                             </td><td>1302                             </td><td>1358                             </td><td> 69                              </td><td>  63                             </td><td> 2988                            </td><td> 3452                            </td><td>-0.13441483                      </td></tr>\n",
       "\t<tr><th scope=row>55</th><td>Seattle PD                       </td><td> 12                              </td><td>  9                              </td><td> 79                              </td><td> 51                              </td><td> 762                             </td><td> 788                             </td><td>1032                             </td><td> 978                             </td><td> 29                              </td><td>  37                             </td><td> 1885                            </td><td> 1826                            </td><td> 0.03231106                      </td></tr>\n",
       "\t<tr><th scope=row>56</th><td>St. Louis Metro PD               </td><td> 87                              </td><td> 92                              </td><td>140                              </td><td>127                              </td><td> 811                             </td><td> 832                             </td><td>1738                             </td><td>1755                             </td><td>980                              </td><td>1086                             </td><td> 2776                            </td><td> 2806                            </td><td>-0.01069138                      </td></tr>\n",
       "\t<tr><th scope=row>57</th><td>Tampa PD                         </td><td> 12                              </td><td> 21                              </td><td> 45                              </td><td> 32                              </td><td> 258                             </td><td> 296                             </td><td> 659                             </td><td> 772                             </td><td> 38                              </td><td>  75                             </td><td>  974                            </td><td> 1121                            </td><td>-0.13113292                      </td></tr>\n",
       "\t<tr><th scope=row>61</th><td>Washington DC (Metro PD)         </td><td> 68                              </td><td> 63                              </td><td>145                              </td><td>128                              </td><td>1491                             </td><td>1527                             </td><td>1102                             </td><td>1211                             </td><td> NA                              </td><td>  NA                             </td><td> 2806                            </td><td> 2929                            </td><td>-0.04199385                      </td></tr>\n",
       "</tbody>\n",
       "</table>\n"
      ],
      "text/latex": [
       "\\begin{tabular}{r|llllllllllllll}\n",
       "  & agency & hom16 & hom15 & rap16 & rap15 & rob16 & rob15 & agg16 & agg15 & non16 & non15 & vc16 & vc15 & change\\\\\n",
       "\\hline\n",
       "\t1 & Albuquerque PD                    &  34                               &  25                               & 156                               & 199                               &  753                              &  861                              & 1601                              & 1608                              & 125                               &   NA                              &  2544                             &  2693                             & -0.05532863                      \\\\\n",
       "\t2 & Arlington PD                      &  13                               &   4                               & 123                               & 117                               &  245                              &  248                              &  668                              &  600                              &  NA                               &   NA                              &  1049                             &   969                             &  0.08255934                      \\\\\n",
       "\t3 & Atlanta PD                        &  57                               &  45                               &  72                               &  72                               & 1005                              & 1003                              & 1028                              & 1064                              & 161                               &  161                              &  2162                             &  2184                             & -0.01007326                      \\\\\n",
       "\t6 & Baltimore County PD               &  16                               &  14                               & 141                               & 134                               &  583                              &  652                              &  823                              & 1193                              &  20                               &   18                              &  1563                             &  1993                             & -0.21575514                      \\\\\n",
       "\t7 & Baltimore PD                      & 137                               & 144                               & 137                               & 141                               & 2373                              & 2041                              & 2344                              & 2285                              & 318                               &  282                              &  4991                             &  4611                             &  0.08241162                      \\\\\n",
       "\t8 & Boston PD                         &  22                               &  13                               & 116                               &  98                               &  659                              &  661                              & 1269                              & 1399                              &  93                               &  100                              &  2066                             &  2171                             & -0.04836481                      \\\\\n",
       "\t11 & Cincinnati PD                     &  35                               &  41                               & 127                               & 125                               &  574                              &  598                              &  350                              &  344                              & 189                               &  227                              &  1086                             &  1108                             & -0.01985560                      \\\\\n",
       "\t12 & Cleveland PD                      &  47                               &  50                               & 218                               & 286                               & 1285                              & 1394                              & 1075                              & 1118                              & 411                               &  388                              &  2625                             &  2848                             & -0.07830056                      \\\\\n",
       "\t13 & Columbus Police                   &  39                               &  48                               & 347                               & 350                               &  963                              & 1105                              &  678                              &  854                              & 160                               &  161                              &  2027                             &  2357                             & -0.14000849                      \\\\\n",
       "\t14 & Dallas PD                         &  83                               &  69                               & 381                               & 405                               & 2150                              & 2008                              & 2160                              & 1860                              &  NA                               &   NA                              &  4774                             &  4342                             &  0.09949332                      \\\\\n",
       "\t15 & Denver PD                         &  19                               &  20                               & 249                               & 309                               &  578                              &  561                              & 1364                              & 1290                              & 103                               &   95                              &  2210                             &  2180                             &  0.01376147                      \\\\\n",
       "\t18 & Fort Worth PD                     &  34                               &  28                               & 182                               & 215                               &  585                              &  486                              & 1368                              & 1396                              &  59                               &   65                              &  2169                             &  2125                             &  0.02070588                      \\\\\n",
       "\t20 & Honolulu PD 2                     &   8                               &   6                               &  95                               & 133                               &  276                              &  260                              &  365                              &  364                              &  19                               &   33                              &   744                             &   763                             & -0.02490170                      \\\\\n",
       "\t23 & Jacksonville Sheriff's Dept       &  59                               &  50                               & 172                               & 187                               &  771                              &  673                              & 1407                              & 1539                              & 162                               &  180                              &  2409                             &  2449                             & -0.01633320                      \\\\\n",
       "\t25 & Long Beach PD                     &  15                               &  13                               & 109                               &  96                               &  540                              &  466                              &  744                              &  727                              &  NA                               &   NA                              &  1408                             &  1302                             &  0.08141321                      \\\\\n",
       "\t26 & Los Angeles County Sheriff's Dept & 110                               &  85                               & 399                               & 365                               & 2202                              & 1915                              & 4371                              & 4124                              &  NA                               &   NA                              &  7082                             &  6489                             &  0.09138542                      \\\\\n",
       "\t29 & Memphis PD                        & 106                               &  65                               & 170                               & 191                               & 1547                              & 1413                              & 2512                              & 2354                              & 452                               &  796                              &  4335                             &  4023                             &  0.07755406                      \\\\\n",
       "\t30 & Mesa PD                           &  11                               &   6                               & 117                               & 142                               &  190                              &  219                              &  605                              &  652                              &  NA                               &   NA                              &   923                             &  1019                             & -0.09421001                      \\\\\n",
       "\t31 & Miami PD                          &  27                               &  43                               &  42                               &  35                               &  671                              &  768                              & 1182                              & 1226                              &  NA                               &   NA                              &  1922                             &  2072                             & -0.07239382                      \\\\\n",
       "\t32 & Miami-Dade PD                     &  37                               &  39                               & 227                               & 191                               &  680                              &  821                              & 1955                              & 2111                              & 119                               &  122                              &  2899                             &  3162                             & -0.08317521                      \\\\\n",
       "\t33 & Milwaukee PD                      &  54                               &  73                               & 176                               & 161                               & 1528                              & 1687                              & 2625                              & 2420                              & 267                               &  298                              &  4383                             &  4341                             &  0.00967519                      \\\\\n",
       "\t34 & Montgomery Co PD                  &   8                               &  15                               & 171                               & 135                               &  313                              &  296                              &  294                              &  450                              &  15                               &   NA                              &   786                             &   896                             & -0.12276786                      \\\\\n",
       "\t35 & Nashville PD                      &  34                               &  31                               & 296                               & 286                               &  869                              &  813                              & 2502                              & 2358                              & 109                               &  103                              &  3701                             &  3488                             &  0.06106651                      \\\\\n",
       "\t36 & Nassau County PD 1                &   3                               &   4                               &  16                               &  27                               &  215                              &  192                              &  276                              &  260                              &  15                               &    9                              &   510                             &   483                             &  0.05590062                      \\\\\n",
       "\t38 & New York City PD                  & 161                               & 172                               & 696                               & 648                               & 7337                              & 7627                              & 9926                              & 9401                              & 349                               &  442                              & 18120                             & 17848                             &  0.01523980                      \\\\\n",
       "\t39 & Newark PD                         &  45                               &  40                               &  46                               &  46                               &  621                              &  891                              &  519                              &  436                              &  79                               &  107                              &  1231                             &  1413                             & -0.12880396                      \\\\\n",
       "\t40 & Oakland PD                        &  28                               &  41                               & 101                               & 129                               & 1486                              & 1735                              & 1306                              & 1264                              & 145                               &  168                              &  2921                             &  3169                             & -0.07825813                      \\\\\n",
       "\t41 & Oklahoma City PD 2                &  19                               &  14                               & 158                               & 160                               &  376                              &  322                              & 1123                              & 1030                              &  NA                               &   NA                              &  1676                             &  1526                             &  0.09829620                      \\\\\n",
       "\t42 & Omaha NE PD                       &  12                               &  20                               & 121                               & 100                               &  242                              &  329                              &  730                              &  758                              &  60                               &   65                              &  1105                             &  1207                             & -0.08450704                      \\\\\n",
       "\t43 & Orlando PD 3                      &  65                               &   8                               &  84                               &  92                               &  240                              &  270                              &  804                              &  900                              &  35                               &   40                              &  1193                             &  1270                             & -0.06062992                      \\\\\n",
       "\t44 & Philadelphia PD                   & 122                               & 115                               & 634                               & 679                               & 2896                              & 3113                              & 3722                              & 3741                              & 463                               &  399                              &  7374                             &  7648                             & -0.03582636                      \\\\\n",
       "\t46 & Pittsburgh PD                     &  30                               &  21                               &  52                               &  37                               &  435                              &  391                              &  626                              &  601                              & 239                               &  238                              &  1143                             &  1050                             &  0.08857143                      \\\\\n",
       "\t47 & Prince George’s County PD         &  48                               &  28                               &  40                               &  48                               &  569                              &  522                              &  163                              &  167                              &  83                               &   68                              &   820                             &   765                             &  0.07189542                      \\\\\n",
       "\t48 & Raleigh PD                        &   6                               &   7                               &  55                               &  50                               &  289                              &  322                              &  386                              &  443                              &  35                               &   31                              &   736                             &   822                             & -0.10462287                      \\\\\n",
       "\t49 & Sacramento PD                     &  13                               &  25                               &  39                               &  53                               &  533                              &  569                              & 1131                              & 1185                              &  NA                               &   NA                              &  1716                             &  1832                             & -0.06331878                      \\\\\n",
       "\t52 & San Diego PD                      &  24                               &  17                               & 297                               & 253                               &  723                              &  659                              & 1600                              & 1916                              &  NA                               &   NA                              &  2644                             &  2845                             & -0.07065026                      \\\\\n",
       "\t53 & San Francisco PD                  &  26                               &  24                               & 163                               & 174                               & 1497                              & 1896                              & 1302                              & 1358                              &  69                               &   63                              &  2988                             &  3452                             & -0.13441483                      \\\\\n",
       "\t55 & Seattle PD                        &  12                               &   9                               &  79                               &  51                               &  762                              &  788                              & 1032                              &  978                              &  29                               &   37                              &  1885                             &  1826                             &  0.03231106                      \\\\\n",
       "\t56 & St. Louis Metro PD                &  87                               &  92                               & 140                               & 127                               &  811                              &  832                              & 1738                              & 1755                              & 980                               & 1086                              &  2776                             &  2806                             & -0.01069138                      \\\\\n",
       "\t57 & Tampa PD                          &  12                               &  21                               &  45                               &  32                               &  258                              &  296                              &  659                              &  772                              &  38                               &   75                              &   974                             &  1121                             & -0.13113292                      \\\\\n",
       "\t61 & Washington DC (Metro PD)          &  68                               &  63                               & 145                               & 128                               & 1491                              & 1527                              & 1102                              & 1211                              &  NA                               &   NA                              &  2806                             &  2929                             & -0.04199385                      \\\\\n",
       "\\end{tabular}\n"
      ],
      "text/markdown": [
       "\n",
       "| <!--/--> | agency | hom16 | hom15 | rap16 | rap15 | rob16 | rob15 | agg16 | agg15 | non16 | non15 | vc16 | vc15 | change | \n",
       "|---|---|---|---|---|---|---|---|---|---|---|---|---|---|---|---|---|---|---|---|---|---|---|---|---|---|---|---|---|---|---|---|---|---|---|---|---|---|---|---|---|\n",
       "| 1 | Albuquerque PD                    |  34                               |  25                               | 156                               | 199                               |  753                              |  861                              | 1601                              | 1608                              | 125                               |   NA                              |  2544                             |  2693                             | -0.05532863                       | \n",
       "| 2 | Arlington PD                      |  13                               |   4                               | 123                               | 117                               |  245                              |  248                              |  668                              |  600                              |  NA                               |   NA                              |  1049                             |   969                             |  0.08255934                       | \n",
       "| 3 | Atlanta PD                        |  57                               |  45                               |  72                               |  72                               | 1005                              | 1003                              | 1028                              | 1064                              | 161                               |  161                              |  2162                             |  2184                             | -0.01007326                       | \n",
       "| 6 | Baltimore County PD               |  16                               |  14                               | 141                               | 134                               |  583                              |  652                              |  823                              | 1193                              |  20                               |   18                              |  1563                             |  1993                             | -0.21575514                       | \n",
       "| 7 | Baltimore PD                      | 137                               | 144                               | 137                               | 141                               | 2373                              | 2041                              | 2344                              | 2285                              | 318                               |  282                              |  4991                             |  4611                             |  0.08241162                       | \n",
       "| 8 | Boston PD                         |  22                               |  13                               | 116                               |  98                               |  659                              |  661                              | 1269                              | 1399                              |  93                               |  100                              |  2066                             |  2171                             | -0.04836481                       | \n",
       "| 11 | Cincinnati PD                     |  35                               |  41                               | 127                               | 125                               |  574                              |  598                              |  350                              |  344                              | 189                               |  227                              |  1086                             |  1108                             | -0.01985560                       | \n",
       "| 12 | Cleveland PD                      |  47                               |  50                               | 218                               | 286                               | 1285                              | 1394                              | 1075                              | 1118                              | 411                               |  388                              |  2625                             |  2848                             | -0.07830056                       | \n",
       "| 13 | Columbus Police                   |  39                               |  48                               | 347                               | 350                               |  963                              | 1105                              |  678                              |  854                              | 160                               |  161                              |  2027                             |  2357                             | -0.14000849                       | \n",
       "| 14 | Dallas PD                         |  83                               |  69                               | 381                               | 405                               | 2150                              | 2008                              | 2160                              | 1860                              |  NA                               |   NA                              |  4774                             |  4342                             |  0.09949332                       | \n",
       "| 15 | Denver PD                         |  19                               |  20                               | 249                               | 309                               |  578                              |  561                              | 1364                              | 1290                              | 103                               |   95                              |  2210                             |  2180                             |  0.01376147                       | \n",
       "| 18 | Fort Worth PD                     |  34                               |  28                               | 182                               | 215                               |  585                              |  486                              | 1368                              | 1396                              |  59                               |   65                              |  2169                             |  2125                             |  0.02070588                       | \n",
       "| 20 | Honolulu PD 2                     |   8                               |   6                               |  95                               | 133                               |  276                              |  260                              |  365                              |  364                              |  19                               |   33                              |   744                             |   763                             | -0.02490170                       | \n",
       "| 23 | Jacksonville Sheriff's Dept       |  59                               |  50                               | 172                               | 187                               |  771                              |  673                              | 1407                              | 1539                              | 162                               |  180                              |  2409                             |  2449                             | -0.01633320                       | \n",
       "| 25 | Long Beach PD                     |  15                               |  13                               | 109                               |  96                               |  540                              |  466                              |  744                              |  727                              |  NA                               |   NA                              |  1408                             |  1302                             |  0.08141321                       | \n",
       "| 26 | Los Angeles County Sheriff's Dept | 110                               |  85                               | 399                               | 365                               | 2202                              | 1915                              | 4371                              | 4124                              |  NA                               |   NA                              |  7082                             |  6489                             |  0.09138542                       | \n",
       "| 29 | Memphis PD                        | 106                               |  65                               | 170                               | 191                               | 1547                              | 1413                              | 2512                              | 2354                              | 452                               |  796                              |  4335                             |  4023                             |  0.07755406                       | \n",
       "| 30 | Mesa PD                           |  11                               |   6                               | 117                               | 142                               |  190                              |  219                              |  605                              |  652                              |  NA                               |   NA                              |   923                             |  1019                             | -0.09421001                       | \n",
       "| 31 | Miami PD                          |  27                               |  43                               |  42                               |  35                               |  671                              |  768                              | 1182                              | 1226                              |  NA                               |   NA                              |  1922                             |  2072                             | -0.07239382                       | \n",
       "| 32 | Miami-Dade PD                     |  37                               |  39                               | 227                               | 191                               |  680                              |  821                              | 1955                              | 2111                              | 119                               |  122                              |  2899                             |  3162                             | -0.08317521                       | \n",
       "| 33 | Milwaukee PD                      |  54                               |  73                               | 176                               | 161                               | 1528                              | 1687                              | 2625                              | 2420                              | 267                               |  298                              |  4383                             |  4341                             |  0.00967519                       | \n",
       "| 34 | Montgomery Co PD                  |   8                               |  15                               | 171                               | 135                               |  313                              |  296                              |  294                              |  450                              |  15                               |   NA                              |   786                             |   896                             | -0.12276786                       | \n",
       "| 35 | Nashville PD                      |  34                               |  31                               | 296                               | 286                               |  869                              |  813                              | 2502                              | 2358                              | 109                               |  103                              |  3701                             |  3488                             |  0.06106651                       | \n",
       "| 36 | Nassau County PD 1                |   3                               |   4                               |  16                               |  27                               |  215                              |  192                              |  276                              |  260                              |  15                               |    9                              |   510                             |   483                             |  0.05590062                       | \n",
       "| 38 | New York City PD                  | 161                               | 172                               | 696                               | 648                               | 7337                              | 7627                              | 9926                              | 9401                              | 349                               |  442                              | 18120                             | 17848                             |  0.01523980                       | \n",
       "| 39 | Newark PD                         |  45                               |  40                               |  46                               |  46                               |  621                              |  891                              |  519                              |  436                              |  79                               |  107                              |  1231                             |  1413                             | -0.12880396                       | \n",
       "| 40 | Oakland PD                        |  28                               |  41                               | 101                               | 129                               | 1486                              | 1735                              | 1306                              | 1264                              | 145                               |  168                              |  2921                             |  3169                             | -0.07825813                       | \n",
       "| 41 | Oklahoma City PD 2                |  19                               |  14                               | 158                               | 160                               |  376                              |  322                              | 1123                              | 1030                              |  NA                               |   NA                              |  1676                             |  1526                             |  0.09829620                       | \n",
       "| 42 | Omaha NE PD                       |  12                               |  20                               | 121                               | 100                               |  242                              |  329                              |  730                              |  758                              |  60                               |   65                              |  1105                             |  1207                             | -0.08450704                       | \n",
       "| 43 | Orlando PD 3                      |  65                               |   8                               |  84                               |  92                               |  240                              |  270                              |  804                              |  900                              |  35                               |   40                              |  1193                             |  1270                             | -0.06062992                       | \n",
       "| 44 | Philadelphia PD                   | 122                               | 115                               | 634                               | 679                               | 2896                              | 3113                              | 3722                              | 3741                              | 463                               |  399                              |  7374                             |  7648                             | -0.03582636                       | \n",
       "| 46 | Pittsburgh PD                     |  30                               |  21                               |  52                               |  37                               |  435                              |  391                              |  626                              |  601                              | 239                               |  238                              |  1143                             |  1050                             |  0.08857143                       | \n",
       "| 47 | Prince George’s County PD         |  48                               |  28                               |  40                               |  48                               |  569                              |  522                              |  163                              |  167                              |  83                               |   68                              |   820                             |   765                             |  0.07189542                       | \n",
       "| 48 | Raleigh PD                        |   6                               |   7                               |  55                               |  50                               |  289                              |  322                              |  386                              |  443                              |  35                               |   31                              |   736                             |   822                             | -0.10462287                       | \n",
       "| 49 | Sacramento PD                     |  13                               |  25                               |  39                               |  53                               |  533                              |  569                              | 1131                              | 1185                              |  NA                               |   NA                              |  1716                             |  1832                             | -0.06331878                       | \n",
       "| 52 | San Diego PD                      |  24                               |  17                               | 297                               | 253                               |  723                              |  659                              | 1600                              | 1916                              |  NA                               |   NA                              |  2644                             |  2845                             | -0.07065026                       | \n",
       "| 53 | San Francisco PD                  |  26                               |  24                               | 163                               | 174                               | 1497                              | 1896                              | 1302                              | 1358                              |  69                               |   63                              |  2988                             |  3452                             | -0.13441483                       | \n",
       "| 55 | Seattle PD                        |  12                               |   9                               |  79                               |  51                               |  762                              |  788                              | 1032                              |  978                              |  29                               |   37                              |  1885                             |  1826                             |  0.03231106                       | \n",
       "| 56 | St. Louis Metro PD                |  87                               |  92                               | 140                               | 127                               |  811                              |  832                              | 1738                              | 1755                              | 980                               | 1086                              |  2776                             |  2806                             | -0.01069138                       | \n",
       "| 57 | Tampa PD                          |  12                               |  21                               |  45                               |  32                               |  258                              |  296                              |  659                              |  772                              |  38                               |   75                              |   974                             |  1121                             | -0.13113292                       | \n",
       "| 61 | Washington DC (Metro PD)          |  68                               |  63                               | 145                               | 128                               | 1491                              | 1527                              | 1102                              | 1211                              |  NA                               |   NA                              |  2806                             |  2929                             | -0.04199385                       | \n",
       "\n",
       "\n"
      ],
      "text/plain": [
       "   agency                            hom16 hom15 rap16 rap15 rob16 rob15 agg16\n",
       "1  Albuquerque PD                     34    25   156   199    753   861  1601 \n",
       "2  Arlington PD                       13     4   123   117    245   248   668 \n",
       "3  Atlanta PD                         57    45    72    72   1005  1003  1028 \n",
       "6  Baltimore County PD                16    14   141   134    583   652   823 \n",
       "7  Baltimore PD                      137   144   137   141   2373  2041  2344 \n",
       "8  Boston PD                          22    13   116    98    659   661  1269 \n",
       "11 Cincinnati PD                      35    41   127   125    574   598   350 \n",
       "12 Cleveland PD                       47    50   218   286   1285  1394  1075 \n",
       "13 Columbus Police                    39    48   347   350    963  1105   678 \n",
       "14 Dallas PD                          83    69   381   405   2150  2008  2160 \n",
       "15 Denver PD                          19    20   249   309    578   561  1364 \n",
       "18 Fort Worth PD                      34    28   182   215    585   486  1368 \n",
       "20 Honolulu PD 2                       8     6    95   133    276   260   365 \n",
       "23 Jacksonville Sheriff's Dept        59    50   172   187    771   673  1407 \n",
       "25 Long Beach PD                      15    13   109    96    540   466   744 \n",
       "26 Los Angeles County Sheriff's Dept 110    85   399   365   2202  1915  4371 \n",
       "29 Memphis PD                        106    65   170   191   1547  1413  2512 \n",
       "30 Mesa PD                            11     6   117   142    190   219   605 \n",
       "31 Miami PD                           27    43    42    35    671   768  1182 \n",
       "32 Miami-Dade PD                      37    39   227   191    680   821  1955 \n",
       "33 Milwaukee PD                       54    73   176   161   1528  1687  2625 \n",
       "34 Montgomery Co PD                    8    15   171   135    313   296   294 \n",
       "35 Nashville PD                       34    31   296   286    869   813  2502 \n",
       "36 Nassau County PD 1                  3     4    16    27    215   192   276 \n",
       "38 New York City PD                  161   172   696   648   7337  7627  9926 \n",
       "39 Newark PD                          45    40    46    46    621   891   519 \n",
       "40 Oakland PD                         28    41   101   129   1486  1735  1306 \n",
       "41 Oklahoma City PD 2                 19    14   158   160    376   322  1123 \n",
       "42 Omaha NE PD                        12    20   121   100    242   329   730 \n",
       "43 Orlando PD 3                       65     8    84    92    240   270   804 \n",
       "44 Philadelphia PD                   122   115   634   679   2896  3113  3722 \n",
       "46 Pittsburgh PD                      30    21    52    37    435   391   626 \n",
       "47 Prince George’s County PD          48    28    40    48    569   522   163 \n",
       "48 Raleigh PD                          6     7    55    50    289   322   386 \n",
       "49 Sacramento PD                      13    25    39    53    533   569  1131 \n",
       "52 San Diego PD                       24    17   297   253    723   659  1600 \n",
       "53 San Francisco PD                   26    24   163   174   1497  1896  1302 \n",
       "55 Seattle PD                         12     9    79    51    762   788  1032 \n",
       "56 St. Louis Metro PD                 87    92   140   127    811   832  1738 \n",
       "57 Tampa PD                           12    21    45    32    258   296   659 \n",
       "61 Washington DC (Metro PD)           68    63   145   128   1491  1527  1102 \n",
       "   agg15 non16 non15 vc16  vc15  change     \n",
       "1  1608  125     NA   2544  2693 -0.05532863\n",
       "2   600   NA     NA   1049   969  0.08255934\n",
       "3  1064  161    161   2162  2184 -0.01007326\n",
       "6  1193   20     18   1563  1993 -0.21575514\n",
       "7  2285  318    282   4991  4611  0.08241162\n",
       "8  1399   93    100   2066  2171 -0.04836481\n",
       "11  344  189    227   1086  1108 -0.01985560\n",
       "12 1118  411    388   2625  2848 -0.07830056\n",
       "13  854  160    161   2027  2357 -0.14000849\n",
       "14 1860   NA     NA   4774  4342  0.09949332\n",
       "15 1290  103     95   2210  2180  0.01376147\n",
       "18 1396   59     65   2169  2125  0.02070588\n",
       "20  364   19     33    744   763 -0.02490170\n",
       "23 1539  162    180   2409  2449 -0.01633320\n",
       "25  727   NA     NA   1408  1302  0.08141321\n",
       "26 4124   NA     NA   7082  6489  0.09138542\n",
       "29 2354  452    796   4335  4023  0.07755406\n",
       "30  652   NA     NA    923  1019 -0.09421001\n",
       "31 1226   NA     NA   1922  2072 -0.07239382\n",
       "32 2111  119    122   2899  3162 -0.08317521\n",
       "33 2420  267    298   4383  4341  0.00967519\n",
       "34  450   15     NA    786   896 -0.12276786\n",
       "35 2358  109    103   3701  3488  0.06106651\n",
       "36  260   15      9    510   483  0.05590062\n",
       "38 9401  349    442  18120 17848  0.01523980\n",
       "39  436   79    107   1231  1413 -0.12880396\n",
       "40 1264  145    168   2921  3169 -0.07825813\n",
       "41 1030   NA     NA   1676  1526  0.09829620\n",
       "42  758   60     65   1105  1207 -0.08450704\n",
       "43  900   35     40   1193  1270 -0.06062992\n",
       "44 3741  463    399   7374  7648 -0.03582636\n",
       "46  601  239    238   1143  1050  0.08857143\n",
       "47  167   83     68    820   765  0.07189542\n",
       "48  443   35     31    736   822 -0.10462287\n",
       "49 1185   NA     NA   1716  1832 -0.06331878\n",
       "52 1916   NA     NA   2644  2845 -0.07065026\n",
       "53 1358   69     63   2988  3452 -0.13441483\n",
       "55  978   29     37   1885  1826  0.03231106\n",
       "56 1755  980   1086   2776  2806 -0.01069138\n",
       "57  772   38     75    974  1121 -0.13113292\n",
       "61 1211   NA     NA   2806  2929 -0.04199385"
      ]
     },
     "metadata": {},
     "output_type": "display_data"
    }
   ],
   "source": [
    "# your one line here\n",
    "chiefs2[chiefs2$change < 0.1,]"
   ]
  },
  {
   "cell_type": "markdown",
   "metadata": {},
   "source": [
    "Now, use chiefs2 to create a the percentage change for all the cities taken together. What do you see?"
   ]
  },
  {
   "cell_type": "code",
   "execution_count": 32,
   "metadata": {},
   "outputs": [
    {
     "data": {
      "text/html": [
       "0.054399422224552"
      ],
      "text/latex": [
       "0.054399422224552"
      ],
      "text/markdown": [
       "0.054399422224552"
      ],
      "text/plain": [
       "[1] 0.05439942"
      ]
     },
     "metadata": {},
     "output_type": "display_data"
    }
   ],
   "source": [
    "# put your code here\n",
    "\n",
    "(sum(chiefs2$vc16) - sum(chiefs2$vc15)) / sum(chiefs2$vc15)\n"
   ]
  },
  {
   "cell_type": "markdown",
   "metadata": {},
   "source": [
    "National trends\n",
    "---------------\n",
    "\n",
    "The data we've been looking captures just 2015-2016 -- well six months of 2015 and six months of 2016. It is a bit dangerous to make interpretations based on just one year's data. Crime fluctuates naturally from year to year and those fluctuations are best understood in terms of larger overall trends. To assess these trends, we appeal to the Uniform Crime Reports compiled by the FBI. You can [access the raw data here.](https://www.icpsr.umich.edu/icpsrweb/NACJD/series/57) I have a nicer form of the data for you already [loaded on Github](https://github.com/cocteau/lede2018/raw/master/data/ucr_crime_1975_2015.csv). \n",
    "\n",
    "Let's bring it into R."
   ]
  },
  {
   "cell_type": "code",
   "execution_count": null,
   "metadata": {},
   "outputs": [],
   "source": [
    "ucr <- read.csv(\"https://github.com/cocteau/lede2018/raw/master/data/ucr_crime_1975_2015.csv\",as.is=TRUE)\n",
    "head(ucr)"
   ]
  },
  {
   "cell_type": "markdown",
   "metadata": {},
   "source": [
    "We've seen simple summaries and graphics for quantitative data. We have various tabular summaries for quantitative data. Here we \"table()\" the column of years for UCR reports to see how many cities are reporting per year."
   ]
  },
  {
   "cell_type": "code",
   "execution_count": null,
   "metadata": {},
   "outputs": [],
   "source": [
    "table(ucr$year)"
   ]
  },
  {
   "cell_type": "markdown",
   "metadata": {},
   "source": [
    "And here we are doing the same by department, to see how many years worth of data we have for each department. It's very regular!"
   ]
  },
  {
   "cell_type": "code",
   "execution_count": null,
   "metadata": {},
   "outputs": [],
   "source": [
    "table(ucr$department_name)"
   ]
  },
  {
   "cell_type": "code",
   "execution_count": null,
   "metadata": {},
   "outputs": [],
   "source": [
    "summary(ucr$violent_crime)"
   ]
  },
  {
   "cell_type": "markdown",
   "metadata": {},
   "source": [
    "The summary shows a few missing values of violent crime numbers. Pull out the cities missing data on `violent_crime`."
   ]
  },
  {
   "cell_type": "code",
   "execution_count": null,
   "metadata": {},
   "outputs": [],
   "source": [
    "# your code here\n",
    "ucr[is.na(ucr$violent_crime),]"
   ]
  },
  {
   "cell_type": "markdown",
   "metadata": {},
   "source": [
    "Just to make sure we understand the columns, violent crime is meant to be a combination of homicides, rapes, robberies and aggravated assault. Let's form that sum and compare it to the violent crime column in the data set. Useful, but not necessary hint: The command `all()` takes a logical vector and asks \"Are all the values TRUE?\". If so, it returns TRUE. \n",
    "\n",
    "So, create a vector from the data set that represents the category of violent crimes, compare that total to the `violent_crime` column in the data set, testing if they are all equal to each other."
   ]
  },
  {
   "cell_type": "code",
   "execution_count": null,
   "metadata": {},
   "outputs": [],
   "source": [
    "# your code here\n",
    "all(ucr$homs_sum + ucr$rob_sum + ucr$rape_sum + ucr$agg_ass_sum == ucr$violent_crime)\n"
   ]
  },
  {
   "cell_type": "markdown",
   "metadata": {},
   "source": [
    "Just to be cleaer, let's look at places that have huge crime numbers..."
   ]
  },
  {
   "cell_type": "code",
   "execution_count": null,
   "metadata": {},
   "outputs": [],
   "source": [
    "ucr[ucr$violent_crime > 1000000,]"
   ]
  },
  {
   "cell_type": "markdown",
   "metadata": {},
   "source": [
    "Or, using dplyr2 verbs..."
   ]
  },
  {
   "cell_type": "code",
   "execution_count": null,
   "metadata": {},
   "outputs": [],
   "source": [
    "filter(ucr,violent_crime>100000)"
   ]
  },
  {
   "cell_type": "markdown",
   "metadata": {},
   "source": [
    "The extra `NA` rows correspond to the missing data entries in Violent Crime that we found above. R will (bless its heart) just turn the entire row into missing values. That can be annoying in cases when we want `NA`'s to be removed from the table. In the next lecture we'll see some higher-level tools that will do this for us, but for now we can just add to our logical expression and take only those rows where the crime count is not missing and is bigger than 1000000. We join two logical conditions with an \"&\" for \"and\" and \"|\" for \"or\"."
   ]
  },
  {
   "cell_type": "code",
   "execution_count": null,
   "metadata": {},
   "outputs": [],
   "source": [
    "# your code here\n",
    "ucr[ ucr$violent_crime > 100000 & !is.na(ucr$violent_crime),]\n"
   ]
  },
  {
   "cell_type": "markdown",
   "metadata": {},
   "source": [
    "... ah, there are national totals in this data set. So let's have a look at one municipality. Let's pull the data aside and make some plots!"
   ]
  },
  {
   "cell_type": "code",
   "execution_count": null,
   "metadata": {},
   "outputs": [],
   "source": [
    "miami <- filter(ucr,department_name==\"Miami\")\n",
    "miami"
   ]
  },
  {
   "cell_type": "code",
   "execution_count": null,
   "metadata": {},
   "outputs": [],
   "source": [
    "plot(miami$year,miami$violent_per_100k)"
   ]
  },
  {
   "cell_type": "code",
   "execution_count": null,
   "metadata": {},
   "outputs": [],
   "source": [
    "options(repr.plot.width=8,repr.plot.height=4)\n",
    "\n",
    "plot(miami$year,miami$violent_per_100k,xlab=\"Year\",ylab=\"Violent Crimes per 100K People\",type=\"l\",main=\"Crime Rate in Miami\")\n",
    "points(miami$year,miami$violent_per_100k,pch=19,cex=0.5)"
   ]
  },
  {
   "cell_type": "markdown",
   "metadata": {},
   "source": [
    "Create a plot for a city larger than Miami and a plot for a city smaller than Miami."
   ]
  },
  {
   "cell_type": "code",
   "execution_count": null,
   "metadata": {},
   "outputs": [],
   "source": [
    "# code to pick your city\n",
    "#\n",
    "mean(miami$total_pop)\n",
    "\n",
    "cities <- summarise(group_by(ucr,department_name),mean_pop = mean(total_pop, na.rm=TRUE))"
   ]
  },
  {
   "cell_type": "code",
   "execution_count": null,
   "metadata": {},
   "outputs": [],
   "source": [
    "# code to plot the big city\n",
    "# \n",
    "cities[cities$mean_pop > mean(miami$total_pop), ]\n",
    "\n",
    "sanantonio  <- filter(ucr,department_name==\"San Antonio\")\n",
    "options(repr.plot.width=8,repr.plot.height=4)\n",
    "\n",
    "plot(sanantonio$year,sanantonio$violent_per_100k,xlab=\"Year\",ylab=\"VC per 100K People\",type=\"l\",main=\"Crime Rate in San Antonio\")\n",
    "points(sanantonio$year,sanantonio$violent_per_100k,pch=19,cex=0.5)"
   ]
  },
  {
   "cell_type": "code",
   "execution_count": null,
   "metadata": {},
   "outputs": [],
   "source": [
    "# code to plot the smaller city\n",
    "#\n",
    "cities[cities$mean_pop < mean(miami$total_pop), ]\n",
    "\n",
    "cincinnati  <- filter(ucr,department_name==\"Cincinnati\")\n",
    "options(repr.plot.width=8,repr.plot.height=4)\n",
    "\n",
    "plot(cincinnati$year,cincinnati$violent_per_100k,xlab=\"Year\",ylab=\"VC per 100K People\",type=\"l\",main=\"Crime Rate in cincinnati\")\n",
    "points(cincinnati$year,cincinnati$violent_per_100k,pch=19,cex=0.5)"
   ]
  },
  {
   "cell_type": "markdown",
   "metadata": {},
   "source": [
    "We'll see some better tools for plotting using ggplot2 next time.\n",
    "\n",
    "**Short bonus.** See if you can get the data into shape from the Major Cities Chiefs Association for 2016-2017, and update our analysis. The original report that generated the CSV we used [is posted here](https://www.majorcitieschiefs.com/pdf/news/mcca_violent_crime_data_midyear_20162015.pdf). An updated version for 2016-2017 [is posted here](https://www.majorcitieschiefs.com/pdf/news/mcca_violent_crime_report_2017_and_2016_midyear_07312017_update.pdf). Grab the file and see what you can do with it. Remember, I used [Tabula](http://tabula.technology/) to pull the data from the Chiefs' report and convert it to the more usable CSV file we loaded into R. See what you can do to convert the new file and try loading it into R."
   ]
  }
 ],
 "metadata": {
  "kernelspec": {
   "display_name": "R",
   "language": "R",
   "name": "ir"
  },
  "language_info": {
   "codemirror_mode": "r",
   "file_extension": ".r",
   "mimetype": "text/x-r-source",
   "name": "R",
   "pygments_lexer": "r",
   "version": "3.4.3"
  }
 },
 "nbformat": 4,
 "nbformat_minor": 1
}
